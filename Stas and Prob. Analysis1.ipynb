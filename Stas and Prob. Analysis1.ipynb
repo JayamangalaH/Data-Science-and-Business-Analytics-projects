{
 "cells": [
  {
   "cell_type": "code",
   "execution_count": 2,
   "metadata": {},
   "outputs": [],
   "source": [
    "import numpy as np\n",
    "import pandas as pd\n",
    "import seaborn as sns\n",
    "import matplotlib.pyplot as plt\n",
    "from scipy.stats import iqr\n",
    "%matplotlib inline\n",
    "wc = pd.read_csv('Wholesale Customer.csv')"
   ]
  },
  {
   "cell_type": "code",
   "execution_count": 6,
   "metadata": {},
   "outputs": [
    {
     "name": "stdout",
     "output_type": "stream",
     "text": [
      "<class 'pandas.core.frame.DataFrame'>\n",
      "RangeIndex: 440 entries, 0 to 439\n",
      "Data columns (total 9 columns):\n",
      "Buyer/Spender       440 non-null int64\n",
      "Channel             440 non-null object\n",
      "Region              440 non-null object\n",
      "Fresh               440 non-null int64\n",
      "Milk                440 non-null int64\n",
      "Grocery             440 non-null int64\n",
      "Frozen              440 non-null int64\n",
      "Detergents_Paper    440 non-null int64\n",
      "Delicatessen        440 non-null int64\n",
      "dtypes: int64(7), object(2)\n",
      "memory usage: 31.0+ KB\n"
     ]
    }
   ],
   "source": [
    "# Use methods of descriptive statistics to summarize data\n",
    "#wc.head(5)\n",
    "wc.info()\n",
    "#wc.describe(include='all')"
   ]
  },
  {
   "cell_type": "code",
   "execution_count": 7,
   "metadata": {},
   "outputs": [],
   "source": [
    "\n",
    "#wc.iqr(axis=0)[1:7]\n",
    "#iqr(wc['Fresh'])\n",
    "#Which Region and which Channel seems to spend more? \n",
    "#Which Region and which Channel seems to spend less?\n",
    "#wc.columns\n",
    "#wc1 = wc.groupby(['Buyer/Spender']).agg({'Fresh': \"sum\",'Milk':\"sum\",'Grocery':\"sum\",'Frozen':\"sum\",'Detergents_Paper':\"sum\",'Delicatessen':\"sum\"})\n",
    "#wc1.sum(axis=0)\n",
    "#wc2 =wc1.groupby(['Channel','Region']).agg({'Fresh': \"sum\",'Milk':\"sum\",'Grocery':\"sum\",'Frozen':\"sum\",'Detergents_Paper':\"sum\",'Delicatessen':\"sum\"})\n",
    "#wc2\n",
    "#wc1.groupby(['Channel','Region'])\n",
    "#wc1.get_groups()\n",
    "#wcs = wc.set_index(['Channel','Region'])['Fresh'].sum(level=[0,1])\n",
    "#print(wcs.max())\n",
    "#wc1.get_groups('Channel','Region') #as_index = False\n",
    "#wcc=wc.groupby(['Channel','Region'],as_index = False)['Fresh','Milk','Grocery', 'Frozen','Detergents_Paper', 'Delicatessen'].sum(axis=0).pivot('Channel','Region')\n",
    "#print(wcc)\n",
    "#wcc1=wcc.reset_index()\n",
    "#wcc1.max()\n"
   ]
  },
  {
   "cell_type": "code",
   "execution_count": null,
   "metadata": {},
   "outputs": [],
   "source": []
  },
  {
   "cell_type": "code",
   "execution_count": 327,
   "metadata": {},
   "outputs": [
    {
     "name": "stdout",
     "output_type": "stream",
     "text": [
      "\n",
      "Total number of values for each item based on each channel and Region is \n",
      "                Buyer/Spender    Fresh     Milk  Grocery  Frozen  \\\n",
      "Channel Region                                                     \n",
      "Hotel   Lisbon          14026   761233   228342   237542  184512   \n",
      "        Oporto           8988   326215    64519   123074  160861   \n",
      "        Other           48020  2928269   735753   820101  771606   \n",
      "Retail  Lisbon           4069    93600   194112   332495   46514   \n",
      "        Oporto           5911   138506   174625   310200   29271   \n",
      "        Other           16006  1032308  1153006  1675150  158886   \n",
      "\n",
      "                Detergents_Paper  Delicatessen  \n",
      "Channel Region                                  \n",
      "Hotel   Lisbon             56081         70632  \n",
      "        Oporto             13516         30965  \n",
      "        Other             165990        320358  \n",
      "Retail  Lisbon            148055         33695  \n",
      "        Oporto            159795         23541  \n",
      "        Other             724420        191752  \n",
      "\n",
      "\n",
      "Maximum values spent for 6 items across each channel and Region is\n",
      "Channel              Retail\n",
      "Region                Other\n",
      "Buyer/Spender         48020\n",
      "Fresh               2928269\n",
      "Milk                1153006\n",
      "Grocery             1675150\n",
      "Frozen               771606\n",
      "Detergents_Paper     724420\n",
      "Delicatessen         320358\n",
      "dtype: object\n",
      "\n",
      "\n",
      "Minimum values spent for 6 items across each channel and Region is\n",
      "Channel              Hotel\n",
      "Region              Lisbon\n",
      "Buyer/Spender         4069\n",
      "Fresh                93600\n",
      "Milk                 64519\n",
      "Grocery             123074\n",
      "Frozen               29271\n",
      "Detergents_Paper     13516\n",
      "Delicatessen         23541\n",
      "dtype: object\n",
      "\n",
      "\n",
      "The Channel and the Region seems to spend more is \n",
      "Channel    Retail\n",
      "Region      Other\n",
      "dtype: object\n",
      "\n",
      "\n",
      "The Channel and the Region seems to spend less is \n",
      "Channel     Hotel\n",
      "Region     Lisbon\n",
      "dtype: object\n"
     ]
    }
   ],
   "source": [
    "wcgr1=wcgr.groupby(['Channel','Region']).sum()#,'Buyer/Spender'])['Fresh','Milk','Grocery', 'Frozen','Detergents_Paper', 'Delicatessen'].sum(axis=0)\n",
    "print(\"\\nTotal number of values for each item based on each channel and Region is \\n{0}\".format(wcgr1))\n",
    "wcgr2 = wcgr1.reset_index().max()\n",
    "print(\"\\n\\nMaximum values spent for 6 items across each channel and Region is\\n{0}\".format(wcgr2))\n",
    "wcgr3 = wcgr1.reset_index().min()\n",
    "print(\"\\n\\nMinimum values spent for 6 items across each channel and Region is\\n{0}\".format(wcgr3))\n",
    "print(\"\\n\\nThe Channel and the Region seems to spend more is \\n{0}\".format(wcgr2.iloc[[0,1]]))\n",
    "print(\"\\n\\nThe Channel and the Region seems to spend less is \\n{0}\".format(wcgr3.iloc[[0,1]]))"
   ]
  },
  {
   "cell_type": "code",
   "execution_count": 24,
   "metadata": {},
   "outputs": [
    {
     "name": "stdout",
     "output_type": "stream",
     "text": [
      "       Buyer/Spender         Fresh          Milk       Grocery         Frozen  \\\n",
      "count       6.000000  6.000000e+00  6.000000e+00  6.000000e+00       6.000000   \n",
      "mean    16170.000000  8.800218e+05  4.250595e+05  5.830937e+05  225275.000000   \n",
      "std     16262.278672  1.068422e+06  4.268906e+05  5.860127e+05  275343.025909   \n",
      "min      4069.000000  9.360000e+04  6.451900e+04  1.230740e+05   29271.000000   \n",
      "25%      6680.250000  1.854332e+05  1.794968e+05  2.557065e+05   74607.000000   \n",
      "50%     11507.000000  5.437240e+05  2.112270e+05  3.213475e+05  159873.500000   \n",
      "75%     15511.000000  9.645392e+05  6.089002e+05  6.981995e+05  178599.250000   \n",
      "max     48020.000000  2.928269e+06  1.153006e+06  1.675150e+06  771606.000000   \n",
      "\n",
      "       Detergents_Paper   Delicatessen  \n",
      "count          6.000000       6.000000  \n",
      "mean      211309.500000  111823.833333  \n",
      "std       258924.418943  120006.584665  \n",
      "min        13516.000000   23541.000000  \n",
      "25%        79074.500000   31647.500000  \n",
      "50%       153925.000000   52163.500000  \n",
      "75%       164441.250000  161472.000000  \n",
      "max       724420.000000  320358.000000  \n",
      "       Buyer/Spender         Fresh          Milk       Grocery        Frozen  \\\n",
      "count       6.000000      6.000000      6.000000      6.000000      6.000000   \n",
      "mean       58.303657   9662.799123   5928.476323   7836.754331   4348.344879   \n",
      "std        62.858326   3445.436438   2681.519488   4972.221109   3669.319773   \n",
      "min        12.262560   5415.521495   2968.628697   3048.298815   1504.498737   \n",
      "25%        15.780829   7393.291599   4350.867214   3602.540578   2436.897551   \n",
      "50%        22.568171   9302.378441   5558.863366   7022.165993   2874.863298   \n",
      "75%       110.081916  11665.355208   6610.820968  11827.873478   4536.558167   \n",
      "max       139.651493  14746.572913  10574.827178  14035.453775  11454.478518   \n",
      "\n",
      "       Detergents_Paper  Delicatessen  \n",
      "count          6.000000      6.000000  \n",
      "mean        3775.984488   1791.814057  \n",
      "std         3252.954440   1003.132457  \n",
      "min          425.310506   1056.778800  \n",
      "25%         1151.454884   1104.064858  \n",
      "50%         3410.893207   1423.215986  \n",
      "75%         5895.538032   1995.910834  \n",
      "max         8286.748255   3663.183304  \n"
     ]
    }
   ],
   "source": [
    "#1.2. There are 6 different varieties of items are considered. \n",
    "#Do all varieties show similar behaviour across Region and Channel?\n",
    "\n",
    "# need to subset the dataset with respect to region and channel and analyze the insights based on descriptive statistics.\n",
    "#The most appropriate one will be to analyse the total count and amount of spending along with the check of \n",
    "#standard deviation of the items across all channels and regions. \n",
    "#'Describe' function for each level should give the required results.\n",
    "\n",
    "#print(wc.groupby(['Channel','Region']).describe(include='all'))\n",
    "#wcct =wc.groupby(['Channel','Region'])['Fresh','Milk','Grocery','Frozen','Detergents_Paper','Delicatessen'].count()\n",
    "#wc[wc['Channel','Region']['Fresh']].value_counts()\n",
    "#print(wcct.describe(include='all'))\n",
    "\n",
    "wc1 =wc.groupby(['Channel','Region']).sum()\n",
    "print(wc1.describe(include='all'))\n",
    "#wc1.reset_index().plot(kind=\"bar\",figsize=(18,5))\n",
    "wc2=wc.groupby(['Channel','Region']).std()\n",
    "print(wc2.describe(include='all'))\n",
    "#wc2.reset_index().plot(kind=\"bar\",figsize=(18,5))\n"
   ]
  },
  {
   "cell_type": "code",
   "execution_count": 21,
   "metadata": {},
   "outputs": [
    {
     "name": "stdout",
     "output_type": "stream",
     "text": [
      "Fresh               12647.328865\n",
      "Grocery              9503.162829\n",
      "Milk                 7380.377175\n",
      "Frozen               4854.673333\n",
      "Detergents_Paper     4767.854448\n",
      "Delicatessen         2820.105937\n",
      "Buyer/Spender         127.161315\n",
      "dtype: float64\n",
      "IQR values of  Fresh Grocery Milk Frozen Detergents_Paper Delicatessen are\n",
      "13830 8499 5654 2812 3653 1413 1413\n"
     ]
    }
   ],
   "source": [
    "#1.3. On the basis of the descriptive measure of variability,\n",
    "#which item shows the most inconsistent behaviour? Which items shows the least inconsistent behaviour?\n",
    "\n",
    "#wc.describe()\n",
    "#print(wc['Fresh'].min())\n",
    "#printing range\n",
    "#wcrang=np.ptp(wc['Fresh'],axis=0)\n",
    "#print(wcrang)\n",
    "\n",
    "#printing std\n",
    "wcstd=wc.std(axis=0)[0:7]\n",
    "#print(wcstd)\n",
    "#wcsum = wc.sum(axis=0)[3:9]\n",
    "#print(wcsum)\n",
    "print(wcstd.sort_values(ascending=False))\n",
    " \n",
    "#Q1=np.percentile(wc.Delicatessen,25)\n",
    "#Q3=np.percentile(wc.Delicatessen,75)\n",
    "#IQR = Q3-Q1\n",
    "#Lower= Q1- (1.5 * IQR)\n",
    "#Upper = Q3 + (1.5 * IQR)\n",
    "#print(wc[wc['Delicatessen'] > Upper].count())\n",
    "#print(wc[wc['Delicatessen'] < Lower].count())\n",
    "a=iqr(wc['Fresh'], axis=0 , rng=(25, 75), interpolation='lower')\n",
    "b=iqr(wc['Grocery'], axis=0 , rng=(25, 75), interpolation='lower')\n",
    "c=iqr(wc['Milk'], axis=0 , rng=(25, 75), interpolation='lower')\n",
    "d=iqr(wc['Frozen'], axis=0 , rng=(25, 75), interpolation='lower')\n",
    "e=iqr(wc['Detergents_Paper'], axis=0 , rng=(25, 75), interpolation='lower')\n",
    "f=iqr(wc['Delicatessen'].T, axis=0 , rng=(25, 75), interpolation='lower')\n",
    "print(\"IQR values of \",\"Fresh\",\"Grocery\", \"Milk\",\"Frozen\",\"Detergents_Paper\", \"Delicatessen\" ,\"are\")\n",
    "print(a,b,c,d,e,f,g)\n",
    "\n",
    "#print(iqr(wc.loc[1:7]))\n",
    "#print(iqr(wc['Fresh']))\n",
    "#print(iqr(wc['Grocery']))\n",
    "#print(iqr(wc['Milk']))\n",
    "#print(iqr(wc['Frozen']))\n",
    "#print(iqr(wc['Detergents_Paper']))\n",
    "#print(iqr(wc['Delicatessen']))"
   ]
  },
  {
   "cell_type": "code",
   "execution_count": 542,
   "metadata": {},
   "outputs": [
    {
     "data": {
      "text/plain": [
       "<matplotlib.axes._subplots.AxesSubplot at 0x23890a52b00>"
      ]
     },
     "execution_count": 542,
     "metadata": {},
     "output_type": "execute_result"
    },
    {
     "data": {
      "image/png": "[encoded data removed]",
      "text/plain": [
       "<Figure size 1296x360 with 1 Axes>"
      ]
     },
     "metadata": {},
     "output_type": "display_data"
    }
   ],
   "source": [
    "#1.4 Are there any outliers in the data?\n",
    "plt.figure(figsize=(18,5))\n",
    "wc.boxplot(column=['Buyer/Spender','Fresh','Milk','Grocery','Frozen','Detergents_Paper','Delicatessen'])\n"
   ]
  },
  {
   "cell_type": "code",
   "execution_count": 562,
   "metadata": {},
   "outputs": [
    {
     "data": {
      "text/plain": [
       "<matplotlib.axes._subplots.AxesSubplot at 0x23890b861d0>"
      ]
     },
     "execution_count": 562,
     "metadata": {},
     "output_type": "execute_result"
    },
    {
     "data": {
      "image/png": "[encoded data removed]",
      "text/plain": [
       "<Figure size 432x288 with 1 Axes>"
      ]
     },
     "metadata": {},
     "output_type": "display_data"
    }
   ],
   "source": [
    "sns.countplot(x='Channel',data=wc)\n",
    "#sns.countplot( x='Channel', data=wc, order = wc['Channel'].value_counts().index)\n"
   ]
  },
  {
   "cell_type": "code",
   "execution_count": 550,
   "metadata": {},
   "outputs": [
    {
     "data": {
      "text/plain": [
       "<matplotlib.axes._subplots.AxesSubplot at 0x23890ad85c0>"
      ]
     },
     "execution_count": 550,
     "metadata": {},
     "output_type": "execute_result"
    },
    {
     "data": {
      "image/png": "[encoded data removed]",
      "text/plain": [
       "<Figure size 432x288 with 1 Axes>"
      ]
     },
     "metadata": {},
     "output_type": "display_data"
    }
   ],
   "source": [
    "sns.countplot(x='Region',data=wc)\n",
    "#sns.countplot(wc.Channel, hue=wc['Region'])"
   ]
  },
  {
   "cell_type": "code",
   "execution_count": 41,
   "metadata": {},
   "outputs": [],
   "source": [
    "#1.5 On the basis of this report, what are the recommendations?"
   ]
  },
  {
   "cell_type": "code",
   "execution_count": null,
   "metadata": {},
   "outputs": [],
   "source": [
    "#wcstd.sort_values(ascending=False).plot(kind=\"bar\")\n",
    "#wcsum.sort_values(ascending=False).plot(kind=\"bar\")\n",
    "#wc.isnull().any()\n",
    "#iqr(wc['Fresh'])\n",
    "#mean1=np.mean(wc['Delicatessen'])\n",
    "#print(mean1)\n",
    "#sd=np.std(wc['Delicatessen'])#['Fresh']\n",
    "#print(sd)\n",
    "#wc[wc['Delicatessen'] > mean1 + 3 * sd].count()\n",
    "#wc[wc['Delicatessen'] < mean1 - 3 * sd].count()"
   ]
  }
 ],
 "metadata": {
  "kernelspec": {
   "display_name": "Python 3",
   "language": "python",
   "name": "python3"
  },
  "language_info": {
   "codemirror_mode": {
    "name": "ipython",
    "version": 3
   },
   "file_extension": ".py",
   "mimetype": "text/x-python",
   "name": "python",
   "nbconvert_exporter": "python",
   "pygments_lexer": "ipython3",
   "version": "3.6.5"
  }
 },
 "nbformat": 4,
 "nbformat_minor": 2
}
