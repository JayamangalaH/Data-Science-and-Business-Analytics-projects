{
 "cells": [
  {
   "cell_type": "markdown",
   "metadata": {},
   "source": [
    "Problem 2: Logistic Regression and LDA\n",
    "\n",
    "You are hired by a tour and travel agency which deals in selling holiday packages. \n",
    "You are provided details of 872 employees of a company. Among these employees, some \n",
    "opted for the package and some didn't. You have to help the company in predicting whether\n",
    "an employee will opt for the package or not on the basis of the information given in the data set. Also, \n",
    "find out the important factors on the basis of which the company will focus on particular employees to sell their packages."
   ]
  },
  {
   "cell_type": "markdown",
   "metadata": {},
   "source": [
    "# Importing all required Libraries\n"
   ]
  },
  {
   "cell_type": "code",
   "execution_count": 71,
   "metadata": {},
   "outputs": [],
   "source": [
    "import numpy as np\n",
    "import pandas as pd\n",
    "import matplotlib.pyplot as plt   \n",
    "import seaborn as sns\n",
    "from sklearn.model_selection import train_test_split\n",
    "from sklearn.linear_model import LogisticRegression\n",
    "from sklearn import metrics\n",
    "from sklearn.metrics import roc_auc_score,roc_curve,classification_report,confusion_matrix\n",
    "from sklearn.discriminant_analysis import LinearDiscriminantAnalysis\n",
    "from sklearn.metrics import confusion_matrix"
   ]
  },
  {
   "cell_type": "markdown",
   "metadata": {},
   "source": [
    "# Loading the Data"
   ]
  },
  {
   "cell_type": "code",
   "execution_count": 72,
   "metadata": {},
   "outputs": [],
   "source": [
    "hp=pd.read_csv(\"Holiday_Package.csv\")"
   ]
  },
  {
   "cell_type": "markdown",
   "metadata": {},
   "source": [
    "# Checking the data"
   ]
  },
  {
   "cell_type": "code",
   "execution_count": 73,
   "metadata": {},
   "outputs": [
    {
     "data": {
      "text/plain": [
       "(872, 8)"
      ]
     },
     "execution_count": 73,
     "metadata": {},
     "output_type": "execute_result"
    }
   ],
   "source": [
    "hp.shape"
   ]
  },
  {
   "cell_type": "code",
   "execution_count": 74,
   "metadata": {},
   "outputs": [
    {
     "data": {
      "text/plain": [
       "Unnamed: 0            int64\n",
       "Holliday_Package     object\n",
       "Salary                int64\n",
       "age                   int64\n",
       "educ                  int64\n",
       "no_young_children     int64\n",
       "no_older_children     int64\n",
       "foreign              object\n",
       "dtype: object"
      ]
     },
     "execution_count": 74,
     "metadata": {},
     "output_type": "execute_result"
    }
   ],
   "source": [
    "hp.dtypes"
   ]
  },
  {
   "cell_type": "code",
   "execution_count": 75,
   "metadata": {},
   "outputs": [
    {
     "name": "stdout",
     "output_type": "stream",
     "text": [
      "<class 'pandas.core.frame.DataFrame'>\n",
      "RangeIndex: 872 entries, 0 to 871\n",
      "Data columns (total 8 columns):\n",
      " #   Column             Non-Null Count  Dtype \n",
      "---  ------             --------------  ----- \n",
      " 0   Unnamed: 0         872 non-null    int64 \n",
      " 1   Holliday_Package   872 non-null    object\n",
      " 2   Salary             872 non-null    int64 \n",
      " 3   age                872 non-null    int64 \n",
      " 4   educ               872 non-null    int64 \n",
      " 5   no_young_children  872 non-null    int64 \n",
      " 6   no_older_children  872 non-null    int64 \n",
      " 7   foreign            872 non-null    object\n",
      "dtypes: int64(6), object(2)\n",
      "memory usage: 54.6+ KB\n"
     ]
    }
   ],
   "source": [
    "hp.info()"
   ]
  },
  {
   "cell_type": "code",
   "execution_count": null,
   "metadata": {},
   "outputs": [],
   "source": [
    "Holliday_Package is the target variable while all others are the predictors. \n",
    "Out of the 8 columns, 2 are object type, while remaining 6 are int.\n",
    "Nominal variables are 2: Holliday_Package, foreign \n",
    "Numeric variables are 5: Unnamed: 0, Salary,age,educ,no_young_children,no_older_children\n",
    "It seems there are no missing values in the dataset."
   ]
  },
  {
   "cell_type": "code",
   "execution_count": 76,
   "metadata": {},
   "outputs": [],
   "source": [
    "# variable Unnamed is not necessary for model building, hence we drop them\n",
    "hp=hp.drop(\"Unnamed: 0\", axis=1)"
   ]
  },
  {
   "cell_type": "markdown",
   "metadata": {},
   "source": [
    "# Check for missing values in any column\n"
   ]
  },
  {
   "cell_type": "code",
   "execution_count": 217,
   "metadata": {},
   "outputs": [],
   "source": [
    "#hp.isnull()"
   ]
  },
  {
   "cell_type": "code",
   "execution_count": 77,
   "metadata": {},
   "outputs": [
    {
     "data": {
      "text/plain": [
       "Holliday_Package     0\n",
       "Salary               0\n",
       "age                  0\n",
       "educ                 0\n",
       "no_young_children    0\n",
       "no_older_children    0\n",
       "foreign              0\n",
       "dtype: int64"
      ]
     },
     "execution_count": 77,
     "metadata": {},
     "output_type": "execute_result"
    }
   ],
   "source": [
    "hp.isnull().sum()"
   ]
  },
  {
   "cell_type": "code",
   "execution_count": null,
   "metadata": {},
   "outputs": [],
   "source": [
    "It is evident that there are no null values in the dataset"
   ]
  },
  {
   "cell_type": "markdown",
   "metadata": {},
   "source": [
    "# Checking for duplicates\n"
   ]
  },
  {
   "cell_type": "code",
   "execution_count": 78,
   "metadata": {},
   "outputs": [
    {
     "name": "stdout",
     "output_type": "stream",
     "text": [
      "Number of duplicate rows = 0\n"
     ]
    },
    {
     "data": {
      "text/html": [
       "<div>\n",
       "<style scoped>\n",
       "    .dataframe tbody tr th:only-of-type {\n",
       "        vertical-align: middle;\n",
       "    }\n",
       "\n",
       "    .dataframe tbody tr th {\n",
       "        vertical-align: top;\n",
       "    }\n",
       "\n",
       "    .dataframe thead th {\n",
       "        text-align: right;\n",
       "    }\n",
       "</style>\n",
       "<table border=\"1\" class=\"dataframe\">\n",
       "  <thead>\n",
       "    <tr style=\"text-align: right;\">\n",
       "      <th></th>\n",
       "      <th>Holliday_Package</th>\n",
       "      <th>Salary</th>\n",
       "      <th>age</th>\n",
       "      <th>educ</th>\n",
       "      <th>no_young_children</th>\n",
       "      <th>no_older_children</th>\n",
       "      <th>foreign</th>\n",
       "    </tr>\n",
       "  </thead>\n",
       "  <tbody>\n",
       "  </tbody>\n",
       "</table>\n",
       "</div>"
      ],
      "text/plain": [
       "Empty DataFrame\n",
       "Columns: [Holliday_Package, Salary, age, educ, no_young_children, no_older_children, foreign]\n",
       "Index: []"
      ]
     },
     "execution_count": 78,
     "metadata": {},
     "output_type": "execute_result"
    }
   ],
   "source": [
    "# Are there any duplicates ?\n",
    "dups = hp.duplicated()\n",
    "print('Number of duplicate rows = %d' % (dups.sum()))\n",
    "hp[dups]"
   ]
  },
  {
   "cell_type": "markdown",
   "metadata": {},
   "source": [
    "# Summary of the data"
   ]
  },
  {
   "cell_type": "code",
   "execution_count": 79,
   "metadata": {},
   "outputs": [
    {
     "data": {
      "text/html": [
       "<div>\n",
       "<style scoped>\n",
       "    .dataframe tbody tr th:only-of-type {\n",
       "        vertical-align: middle;\n",
       "    }\n",
       "\n",
       "    .dataframe tbody tr th {\n",
       "        vertical-align: top;\n",
       "    }\n",
       "\n",
       "    .dataframe thead th {\n",
       "        text-align: right;\n",
       "    }\n",
       "</style>\n",
       "<table border=\"1\" class=\"dataframe\">\n",
       "  <thead>\n",
       "    <tr style=\"text-align: right;\">\n",
       "      <th></th>\n",
       "      <th>Holliday_Package</th>\n",
       "      <th>Salary</th>\n",
       "      <th>age</th>\n",
       "      <th>educ</th>\n",
       "      <th>no_young_children</th>\n",
       "      <th>no_older_children</th>\n",
       "      <th>foreign</th>\n",
       "    </tr>\n",
       "  </thead>\n",
       "  <tbody>\n",
       "    <tr>\n",
       "      <th>count</th>\n",
       "      <td>872</td>\n",
       "      <td>872.000000</td>\n",
       "      <td>872.000000</td>\n",
       "      <td>872.000000</td>\n",
       "      <td>872.000000</td>\n",
       "      <td>872.000000</td>\n",
       "      <td>872</td>\n",
       "    </tr>\n",
       "    <tr>\n",
       "      <th>unique</th>\n",
       "      <td>2</td>\n",
       "      <td>NaN</td>\n",
       "      <td>NaN</td>\n",
       "      <td>NaN</td>\n",
       "      <td>NaN</td>\n",
       "      <td>NaN</td>\n",
       "      <td>2</td>\n",
       "    </tr>\n",
       "    <tr>\n",
       "      <th>top</th>\n",
       "      <td>no</td>\n",
       "      <td>NaN</td>\n",
       "      <td>NaN</td>\n",
       "      <td>NaN</td>\n",
       "      <td>NaN</td>\n",
       "      <td>NaN</td>\n",
       "      <td>no</td>\n",
       "    </tr>\n",
       "    <tr>\n",
       "      <th>freq</th>\n",
       "      <td>471</td>\n",
       "      <td>NaN</td>\n",
       "      <td>NaN</td>\n",
       "      <td>NaN</td>\n",
       "      <td>NaN</td>\n",
       "      <td>NaN</td>\n",
       "      <td>656</td>\n",
       "    </tr>\n",
       "    <tr>\n",
       "      <th>mean</th>\n",
       "      <td>NaN</td>\n",
       "      <td>47729.172018</td>\n",
       "      <td>39.955275</td>\n",
       "      <td>9.307339</td>\n",
       "      <td>0.311927</td>\n",
       "      <td>0.982798</td>\n",
       "      <td>NaN</td>\n",
       "    </tr>\n",
       "    <tr>\n",
       "      <th>std</th>\n",
       "      <td>NaN</td>\n",
       "      <td>23418.668531</td>\n",
       "      <td>10.551675</td>\n",
       "      <td>3.036259</td>\n",
       "      <td>0.612870</td>\n",
       "      <td>1.086786</td>\n",
       "      <td>NaN</td>\n",
       "    </tr>\n",
       "    <tr>\n",
       "      <th>min</th>\n",
       "      <td>NaN</td>\n",
       "      <td>1322.000000</td>\n",
       "      <td>20.000000</td>\n",
       "      <td>1.000000</td>\n",
       "      <td>0.000000</td>\n",
       "      <td>0.000000</td>\n",
       "      <td>NaN</td>\n",
       "    </tr>\n",
       "    <tr>\n",
       "      <th>25%</th>\n",
       "      <td>NaN</td>\n",
       "      <td>35324.000000</td>\n",
       "      <td>32.000000</td>\n",
       "      <td>8.000000</td>\n",
       "      <td>0.000000</td>\n",
       "      <td>0.000000</td>\n",
       "      <td>NaN</td>\n",
       "    </tr>\n",
       "    <tr>\n",
       "      <th>50%</th>\n",
       "      <td>NaN</td>\n",
       "      <td>41903.500000</td>\n",
       "      <td>39.000000</td>\n",
       "      <td>9.000000</td>\n",
       "      <td>0.000000</td>\n",
       "      <td>1.000000</td>\n",
       "      <td>NaN</td>\n",
       "    </tr>\n",
       "    <tr>\n",
       "      <th>75%</th>\n",
       "      <td>NaN</td>\n",
       "      <td>53469.500000</td>\n",
       "      <td>48.000000</td>\n",
       "      <td>12.000000</td>\n",
       "      <td>0.000000</td>\n",
       "      <td>2.000000</td>\n",
       "      <td>NaN</td>\n",
       "    </tr>\n",
       "    <tr>\n",
       "      <th>max</th>\n",
       "      <td>NaN</td>\n",
       "      <td>236961.000000</td>\n",
       "      <td>62.000000</td>\n",
       "      <td>21.000000</td>\n",
       "      <td>3.000000</td>\n",
       "      <td>6.000000</td>\n",
       "      <td>NaN</td>\n",
       "    </tr>\n",
       "  </tbody>\n",
       "</table>\n",
       "</div>"
      ],
      "text/plain": [
       "       Holliday_Package         Salary         age        educ  \\\n",
       "count               872     872.000000  872.000000  872.000000   \n",
       "unique                2            NaN         NaN         NaN   \n",
       "top                  no            NaN         NaN         NaN   \n",
       "freq                471            NaN         NaN         NaN   \n",
       "mean                NaN   47729.172018   39.955275    9.307339   \n",
       "std                 NaN   23418.668531   10.551675    3.036259   \n",
       "min                 NaN    1322.000000   20.000000    1.000000   \n",
       "25%                 NaN   35324.000000   32.000000    8.000000   \n",
       "50%                 NaN   41903.500000   39.000000    9.000000   \n",
       "75%                 NaN   53469.500000   48.000000   12.000000   \n",
       "max                 NaN  236961.000000   62.000000   21.000000   \n",
       "\n",
       "        no_young_children  no_older_children foreign  \n",
       "count          872.000000         872.000000     872  \n",
       "unique                NaN                NaN       2  \n",
       "top                   NaN                NaN      no  \n",
       "freq                  NaN                NaN     656  \n",
       "mean             0.311927           0.982798     NaN  \n",
       "std              0.612870           1.086786     NaN  \n",
       "min              0.000000           0.000000     NaN  \n",
       "25%              0.000000           0.000000     NaN  \n",
       "50%              0.000000           1.000000     NaN  \n",
       "75%              0.000000           2.000000     NaN  \n",
       "max              3.000000           6.000000     NaN  "
      ]
     },
     "execution_count": 79,
     "metadata": {},
     "output_type": "execute_result"
    }
   ],
   "source": [
    "hp.describe(include=\"all\")"
   ]
  },
  {
   "cell_type": "markdown",
   "metadata": {},
   "source": [
    "From the above results, mean values are greater than the median, except for no_of_older_children.\n",
    "Thus data is skewed. Count value is 872 for all variables.\n",
    "Top values for Holliday_package and foreign are 'no' and their occurence is 471 and 656 respectively."
   ]
  },
  {
   "cell_type": "code",
   "execution_count": 80,
   "metadata": {},
   "outputs": [
    {
     "data": {
      "text/plain": [
       "Salary               3.103216\n",
       "age                  0.146412\n",
       "educ                -0.045501\n",
       "no_young_children    1.946515\n",
       "no_older_children    0.953951\n",
       "dtype: float64"
      ]
     },
     "execution_count": 80,
     "metadata": {},
     "output_type": "execute_result"
    }
   ],
   "source": [
    "hp.skew()#??"
   ]
  },
  {
   "cell_type": "code",
   "execution_count": null,
   "metadata": {},
   "outputs": [],
   "source": []
  },
  {
   "cell_type": "markdown",
   "metadata": {},
   "source": [
    "# Univariate Analysis"
   ]
  },
  {
   "cell_type": "markdown",
   "metadata": {},
   "source": [
    "# Geting unique counts of all Nominal Variables"
   ]
  },
  {
   "cell_type": "code",
   "execution_count": 81,
   "metadata": {},
   "outputs": [
    {
     "name": "stdout",
     "output_type": "stream",
     "text": [
      "HOLLIDAY_PACKAGE :  2\n",
      "yes    401\n",
      "no     471\n",
      "Name: Holliday_Package, dtype: int64\n",
      "\n",
      "\n",
      "FOREIGN :  2\n",
      "yes    216\n",
      "no     656\n",
      "Name: foreign, dtype: int64\n",
      "\n",
      "\n"
     ]
    }
   ],
   "source": [
    "categorical_column = [col for col in hp.columns if hp.dtypes[col] == 'object']\n",
    "for column in hp[categorical_column]:\n",
    "    print(column.upper(),': ',hp[column].nunique())\n",
    "    print(hp[column].value_counts().sort_values())\n",
    "    print('\\n')"
   ]
  },
  {
   "cell_type": "markdown",
   "metadata": {},
   "source": [
    "Observation:\n",
    "    'yes' is in lower % than 'no'"
   ]
  },
  {
   "cell_type": "markdown",
   "metadata": {},
   "source": [
    "# Distplot and Box plot\n"
   ]
  },
  {
   "cell_type": "code",
   "execution_count": 82,
   "metadata": {},
   "outputs": [
    {
     "data": {
      "text/plain": [
       "Text(0.5, 1.0, ' no_older_children Distribution')"
      ]
     },
     "execution_count": 82,
     "metadata": {},
     "output_type": "execute_result"
    },
    {
     "data": {
      "image/png": "[encoded data removed]",
      "text/plain": [
       "<Figure size 720x1080 with 10 Axes>"
      ]
     },
     "metadata": {
      "needs_background": "light"
     },
     "output_type": "display_data"
    }
   ],
   "source": [
    "continuous_column = ['Salary','age','educ','no_young_children','no_older_children']\n",
    "fig, axes = plt.subplots(nrows=5,ncols=2)\n",
    "fig.set_size_inches(10, 15)\n",
    "a = sns.distplot(hp['Salary'] , ax=axes[0][0])\n",
    "a.set_title(\" Salary Distribution\",fontsize=15)\n",
    "a = sns.boxplot(hp['Salary'] , orient = \"v\" , ax=axes[0][1])\n",
    "a.set_title(\" Salary Distribution\",fontsize=15)\n",
    "\n",
    "a = sns.distplot(hp['age'] , ax=axes[1][0])\n",
    "a.set_title(\" age Distribution\",fontsize=15)\n",
    "a = sns.boxplot(hp['age'] , orient = \"v\" , ax=axes[1][1])\n",
    "a.set_title(\" age Distribution\",fontsize=15)\n",
    "\n",
    "a = sns.distplot(hp['educ'] , ax=axes[2][0])\n",
    "a.set_title(\" educ Distribution\",fontsize=15)\n",
    "a = sns.boxplot(hp['educ'] , orient = \"v\" , ax=axes[2][1])\n",
    "a.set_title(\" educ Distribution\",fontsize=15)\n",
    "\n",
    "a = sns.distplot(hp['no_young_children'] , ax=axes[3][0], kde_kws={'bw':0.1})\n",
    "a.set_title(\" no_young_children Distribution\",fontsize=15)\n",
    "a = sns.boxplot(hp['no_young_children'] , orient = \"v\" , ax=axes[3][1])\n",
    "a.set_title(\" no_young_children Distribution\",fontsize=15)\n",
    "\n",
    "a = sns.distplot(hp['no_older_children'] , ax=axes[4][0], kde_kws={'bw':0.1})\n",
    "a.set_title(\" no_older_children Distribution\",fontsize=15)\n",
    "a = sns.boxplot(hp['no_older_children'] , orient = \"v\" , ax=axes[4][1])\n",
    "a.set_title(\" no_older_children Distribution\",fontsize=15)"
   ]
  },
  {
   "cell_type": "code",
   "execution_count": 83,
   "metadata": {},
   "outputs": [
    {
     "data": {
      "text/plain": [
       "Salary               3.103216\n",
       "age                  0.146412\n",
       "educ                -0.045501\n",
       "no_young_children    1.946515\n",
       "no_older_children    0.953951\n",
       "dtype: float64"
      ]
     },
     "execution_count": 83,
     "metadata": {},
     "output_type": "execute_result"
    }
   ],
   "source": [
    "hp.skew()"
   ]
  },
  {
   "cell_type": "code",
   "execution_count": null,
   "metadata": {},
   "outputs": [],
   "source": [
    "#left-skewed data\n",
    "#educ\n",
    "#right-skewed data\n",
    "#rem. 4\n",
    "#All continuous varaibles have outliers."
   ]
  },
  {
   "cell_type": "code",
   "execution_count": 84,
   "metadata": {},
   "outputs": [
    {
     "data": {
      "image/png": "[encoded data removed]",
      "text/plain": [
       "<Figure size 1080x720 with 2 Axes>"
      ]
     },
     "metadata": {
      "needs_background": "light"
     },
     "output_type": "display_data"
    }
   ],
   "source": [
    "# Correlation matrix  \n",
    "corr = hp[continuous_column].corr()\n",
    "plt.figure(figsize=(15, 10))\n",
    "sns.heatmap(corr, \n",
    "            xticklabels = corr.columns.values,\n",
    "            yticklabels = corr.columns.values,\n",
    "            annot = True);\n",
    "plt.show()\n",
    "\n",
    "#Below finding\n",
    "# No correlation exists between the variables\n"
   ]
  },
  {
   "cell_type": "code",
   "execution_count": 85,
   "metadata": {},
   "outputs": [
    {
     "data": {
      "text/plain": [
       "<seaborn.axisgrid.PairGrid at 0x22835d307c8>"
      ]
     },
     "execution_count": 85,
     "metadata": {},
     "output_type": "execute_result"
    },
    {
     "data": {
      "image/png": "[encoded data removed]",
      "text/plain": [
       "<Figure size 995.5x900 with 20 Axes>"
      ]
     },
     "metadata": {
      "needs_background": "light"
     },
     "output_type": "display_data"
    }
   ],
   "source": [
    "#Let us check for pair plots\n",
    "sns.pairplot(hp,hue=\"Holliday_Package\",diag_kind='kde',corner=True, diag_kws={'bw':1.0})"
   ]
  },
  {
   "cell_type": "markdown",
   "metadata": {},
   "source": [
    "\n"
   ]
  },
  {
   "cell_type": "code",
   "execution_count": null,
   "metadata": {},
   "outputs": [],
   "source": []
  },
  {
   "cell_type": "markdown",
   "metadata": {},
   "source": [
    "Outlier checks"
   ]
  },
  {
   "cell_type": "code",
   "execution_count": 86,
   "metadata": {},
   "outputs": [
    {
     "data": {
      "image/png": "[encoded data removed]",
      "text/plain": [
       "<Figure size 720x720 with 1 Axes>"
      ]
     },
     "metadata": {
      "needs_background": "light"
     },
     "output_type": "display_data"
    }
   ],
   "source": [
    "plt.figure(figsize=(10,10))\n",
    "hp.boxplot(vert=0)\n",
    "plt.title('With Outliers',fontsize=16)\n",
    "plt.show()"
   ]
  },
  {
   "cell_type": "markdown",
   "metadata": {},
   "source": []
  },
  {
   "cell_type": "code",
   "execution_count": 87,
   "metadata": {},
   "outputs": [],
   "source": [
    "def remove_outlier(col):\n",
    "    sorted(col)\n",
    "    Q1,Q3=np.percentile(col,[25,75])\n",
    "    IQR=Q3-Q1\n",
    "    lower_range= Q1-(1.5 * IQR)\n",
    "    upper_range= Q3+(1.5 * IQR)\n",
    "    return lower_range, upper_range"
   ]
  },
  {
   "cell_type": "code",
   "execution_count": 88,
   "metadata": {},
   "outputs": [],
   "source": [
    "for column in hp.columns:\n",
    "    if hp[column].dtype != 'object': \n",
    "        lr,ur=remove_outlier(hp[column])\n",
    "        hp[column]=np.where(hp[column]>ur,ur,hp[column])\n",
    "        hp[column]=np.where(hp[column]<lr,lr,hp[column])"
   ]
  },
  {
   "cell_type": "code",
   "execution_count": 89,
   "metadata": {},
   "outputs": [
    {
     "data": {
      "image/png": "[encoded data removed]",
      "text/plain": [
       "<Figure size 720x720 with 1 Axes>"
      ]
     },
     "metadata": {
      "needs_background": "light"
     },
     "output_type": "display_data"
    }
   ],
   "source": [
    "plt.figure(figsize=(10,10))\n",
    "hp.boxplot(vert=0)\n",
    "plt.title('After Outlier treatment',fontsize=16)\n",
    "plt.show()"
   ]
  },
  {
   "cell_type": "code",
   "execution_count": 90,
   "metadata": {},
   "outputs": [
    {
     "data": {
      "image/png": "[encoded data removed]",
      "text/plain": [
       "<Figure size 1080x720 with 2 Axes>"
      ]
     },
     "metadata": {
      "needs_background": "light"
     },
     "output_type": "display_data"
    }
   ],
   "source": [
    "# Correlation matrix  \n",
    "corr = hp[continuous_column].corr()\n",
    "plt.figure(figsize=(15, 10))\n",
    "sns.heatmap(corr, \n",
    "            xticklabels = corr.columns.values,\n",
    "            yticklabels = corr.columns.values,\n",
    "            annot = True);\n",
    "plt.show()\n"
   ]
  },
  {
   "cell_type": "code",
   "execution_count": 91,
   "metadata": {},
   "outputs": [
    {
     "data": {
      "text/html": [
       "<div>\n",
       "<style scoped>\n",
       "    .dataframe tbody tr th:only-of-type {\n",
       "        vertical-align: middle;\n",
       "    }\n",
       "\n",
       "    .dataframe tbody tr th {\n",
       "        vertical-align: top;\n",
       "    }\n",
       "\n",
       "    .dataframe thead th {\n",
       "        text-align: right;\n",
       "    }\n",
       "</style>\n",
       "<table border=\"1\" class=\"dataframe\">\n",
       "  <thead>\n",
       "    <tr style=\"text-align: right;\">\n",
       "      <th></th>\n",
       "      <th>Holliday_Package</th>\n",
       "      <th>Salary</th>\n",
       "      <th>age</th>\n",
       "      <th>educ</th>\n",
       "      <th>no_young_children</th>\n",
       "      <th>no_older_children</th>\n",
       "      <th>foreign</th>\n",
       "    </tr>\n",
       "  </thead>\n",
       "  <tbody>\n",
       "    <tr>\n",
       "      <th>count</th>\n",
       "      <td>872</td>\n",
       "      <td>872.000000</td>\n",
       "      <td>872.000000</td>\n",
       "      <td>872.000000</td>\n",
       "      <td>872.0</td>\n",
       "      <td>872.000000</td>\n",
       "      <td>872</td>\n",
       "    </tr>\n",
       "    <tr>\n",
       "      <th>unique</th>\n",
       "      <td>2</td>\n",
       "      <td>NaN</td>\n",
       "      <td>NaN</td>\n",
       "      <td>NaN</td>\n",
       "      <td>NaN</td>\n",
       "      <td>NaN</td>\n",
       "      <td>2</td>\n",
       "    </tr>\n",
       "    <tr>\n",
       "      <th>top</th>\n",
       "      <td>no</td>\n",
       "      <td>NaN</td>\n",
       "      <td>NaN</td>\n",
       "      <td>NaN</td>\n",
       "      <td>NaN</td>\n",
       "      <td>NaN</td>\n",
       "      <td>no</td>\n",
       "    </tr>\n",
       "    <tr>\n",
       "      <th>freq</th>\n",
       "      <td>471</td>\n",
       "      <td>NaN</td>\n",
       "      <td>NaN</td>\n",
       "      <td>NaN</td>\n",
       "      <td>NaN</td>\n",
       "      <td>NaN</td>\n",
       "      <td>656</td>\n",
       "    </tr>\n",
       "    <tr>\n",
       "      <th>mean</th>\n",
       "      <td>NaN</td>\n",
       "      <td>45608.336869</td>\n",
       "      <td>39.955275</td>\n",
       "      <td>9.302752</td>\n",
       "      <td>0.0</td>\n",
       "      <td>0.980505</td>\n",
       "      <td>NaN</td>\n",
       "    </tr>\n",
       "    <tr>\n",
       "      <th>std</th>\n",
       "      <td>NaN</td>\n",
       "      <td>15699.745151</td>\n",
       "      <td>10.551675</td>\n",
       "      <td>3.014712</td>\n",
       "      <td>0.0</td>\n",
       "      <td>1.077197</td>\n",
       "      <td>NaN</td>\n",
       "    </tr>\n",
       "    <tr>\n",
       "      <th>min</th>\n",
       "      <td>NaN</td>\n",
       "      <td>8105.750000</td>\n",
       "      <td>20.000000</td>\n",
       "      <td>2.000000</td>\n",
       "      <td>0.0</td>\n",
       "      <td>0.000000</td>\n",
       "      <td>NaN</td>\n",
       "    </tr>\n",
       "    <tr>\n",
       "      <th>25%</th>\n",
       "      <td>NaN</td>\n",
       "      <td>35324.000000</td>\n",
       "      <td>32.000000</td>\n",
       "      <td>8.000000</td>\n",
       "      <td>0.0</td>\n",
       "      <td>0.000000</td>\n",
       "      <td>NaN</td>\n",
       "    </tr>\n",
       "    <tr>\n",
       "      <th>50%</th>\n",
       "      <td>NaN</td>\n",
       "      <td>41903.500000</td>\n",
       "      <td>39.000000</td>\n",
       "      <td>9.000000</td>\n",
       "      <td>0.0</td>\n",
       "      <td>1.000000</td>\n",
       "      <td>NaN</td>\n",
       "    </tr>\n",
       "    <tr>\n",
       "      <th>75%</th>\n",
       "      <td>NaN</td>\n",
       "      <td>53469.500000</td>\n",
       "      <td>48.000000</td>\n",
       "      <td>12.000000</td>\n",
       "      <td>0.0</td>\n",
       "      <td>2.000000</td>\n",
       "      <td>NaN</td>\n",
       "    </tr>\n",
       "    <tr>\n",
       "      <th>max</th>\n",
       "      <td>NaN</td>\n",
       "      <td>80687.750000</td>\n",
       "      <td>62.000000</td>\n",
       "      <td>18.000000</td>\n",
       "      <td>0.0</td>\n",
       "      <td>5.000000</td>\n",
       "      <td>NaN</td>\n",
       "    </tr>\n",
       "  </tbody>\n",
       "</table>\n",
       "</div>"
      ],
      "text/plain": [
       "       Holliday_Package        Salary         age        educ  \\\n",
       "count               872    872.000000  872.000000  872.000000   \n",
       "unique                2           NaN         NaN         NaN   \n",
       "top                  no           NaN         NaN         NaN   \n",
       "freq                471           NaN         NaN         NaN   \n",
       "mean                NaN  45608.336869   39.955275    9.302752   \n",
       "std                 NaN  15699.745151   10.551675    3.014712   \n",
       "min                 NaN   8105.750000   20.000000    2.000000   \n",
       "25%                 NaN  35324.000000   32.000000    8.000000   \n",
       "50%                 NaN  41903.500000   39.000000    9.000000   \n",
       "75%                 NaN  53469.500000   48.000000   12.000000   \n",
       "max                 NaN  80687.750000   62.000000   18.000000   \n",
       "\n",
       "        no_young_children  no_older_children foreign  \n",
       "count               872.0         872.000000     872  \n",
       "unique                NaN                NaN       2  \n",
       "top                   NaN                NaN      no  \n",
       "freq                  NaN                NaN     656  \n",
       "mean                  0.0           0.980505     NaN  \n",
       "std                   0.0           1.077197     NaN  \n",
       "min                   0.0           0.000000     NaN  \n",
       "25%                   0.0           0.000000     NaN  \n",
       "50%                   0.0           1.000000     NaN  \n",
       "75%                   0.0           2.000000     NaN  \n",
       "max                   0.0           5.000000     NaN  "
      ]
     },
     "execution_count": 91,
     "metadata": {},
     "output_type": "execute_result"
    }
   ],
   "source": [
    "hp.describe(include=\"all\")"
   ]
  },
  {
   "cell_type": "code",
   "execution_count": null,
   "metadata": {},
   "outputs": [],
   "source": [
    " # The values of no_young_children are 0 after removing outliers. This variable can be dropped"
   ]
  },
  {
   "cell_type": "code",
   "execution_count": 92,
   "metadata": {},
   "outputs": [],
   "source": [
    "hp=hp.drop(\"no_young_children\", axis=1)"
   ]
  },
  {
   "cell_type": "markdown",
   "metadata": {},
   "source": [
    "Proportion in the Target classes"
   ]
  },
  {
   "cell_type": "code",
   "execution_count": 93,
   "metadata": {},
   "outputs": [
    {
     "data": {
      "text/plain": [
       "no     0.540138\n",
       "yes    0.459862\n",
       "Name: Holliday_Package, dtype: float64"
      ]
     },
     "execution_count": 93,
     "metadata": {},
     "output_type": "execute_result"
    }
   ],
   "source": [
    "hp.Holliday_Package.value_counts(normalize=True)"
   ]
  },
  {
   "cell_type": "code",
   "execution_count": 94,
   "metadata": {},
   "outputs": [
    {
     "data": {
      "image/png": "[encoded data removed]",
      "text/plain": [
       "<Figure size 432x288 with 1 Axes>"
      ]
     },
     "metadata": {
      "needs_background": "light"
     },
     "output_type": "display_data"
    }
   ],
   "source": [
    "x=hp['Holliday_Package']\n",
    "ax=sns.countplot(x=x,data=hp)"
   ]
  },
  {
   "cell_type": "markdown",
   "metadata": {},
   "source": [
    "class imbalance is moderate"
   ]
  },
  {
   "cell_type": "markdown",
   "metadata": {},
   "source": [
    "#defining a normalisation function \n",
    "def normalize (x): \n",
    "    return ( (x-np.min(x))/ (max(x) - min(x)))\n",
    "                                            \n",
    "hp = hp.apply(normalize)\n",
    "hp.head()"
   ]
  },
  {
   "cell_type": "code",
   "execution_count": 95,
   "metadata": {},
   "outputs": [
    {
     "name": "stdout",
     "output_type": "stream",
     "text": [
      "\n",
      "\n",
      "feature: Holliday_Package\n",
      "[no, yes]\n",
      "Categories (2, object): [no, yes]\n",
      "[0 1]\n",
      "\n",
      "\n",
      "feature: foreign\n",
      "[no, yes]\n",
      "Categories (2, object): [no, yes]\n",
      "[0 1]\n"
     ]
    }
   ],
   "source": [
    "#Converting all objects to categorical codes\n",
    "for feature in hp.columns: \n",
    "    if hp[feature].dtype == 'object': \n",
    "        print('\\n')\n",
    "        print('feature:',feature)\n",
    "        print(pd.Categorical(hp[feature].unique()))\n",
    "        print(pd.Categorical(hp[feature].unique()).codes)\n",
    "        hp[feature] = pd.Categorical(hp[feature]).codes"
   ]
  },
  {
   "cell_type": "markdown",
   "metadata": {},
   "source": [
    "# Train Test split"
   ]
  },
  {
   "cell_type": "code",
   "execution_count": 96,
   "metadata": {},
   "outputs": [],
   "source": [
    "# Copy all the predictor variables into X dataframe\n",
    "X = hp.drop('Holliday_Package', axis=1)\n",
    "\n",
    "# Copy target into the y dataframe. \n",
    "y = hp['Holliday_Package']"
   ]
  },
  {
   "cell_type": "code",
   "execution_count": 97,
   "metadata": {},
   "outputs": [
    {
     "data": {
      "text/html": [
       "<div>\n",
       "<style scoped>\n",
       "    .dataframe tbody tr th:only-of-type {\n",
       "        vertical-align: middle;\n",
       "    }\n",
       "\n",
       "    .dataframe tbody tr th {\n",
       "        vertical-align: top;\n",
       "    }\n",
       "\n",
       "    .dataframe thead th {\n",
       "        text-align: right;\n",
       "    }\n",
       "</style>\n",
       "<table border=\"1\" class=\"dataframe\">\n",
       "  <thead>\n",
       "    <tr style=\"text-align: right;\">\n",
       "      <th></th>\n",
       "      <th>Salary</th>\n",
       "      <th>age</th>\n",
       "      <th>educ</th>\n",
       "      <th>no_older_children</th>\n",
       "      <th>foreign</th>\n",
       "    </tr>\n",
       "  </thead>\n",
       "  <tbody>\n",
       "    <tr>\n",
       "      <th>0</th>\n",
       "      <td>48412.0</td>\n",
       "      <td>30.0</td>\n",
       "      <td>8.0</td>\n",
       "      <td>1.0</td>\n",
       "      <td>0</td>\n",
       "    </tr>\n",
       "    <tr>\n",
       "      <th>1</th>\n",
       "      <td>37207.0</td>\n",
       "      <td>45.0</td>\n",
       "      <td>8.0</td>\n",
       "      <td>1.0</td>\n",
       "      <td>0</td>\n",
       "    </tr>\n",
       "    <tr>\n",
       "      <th>2</th>\n",
       "      <td>58022.0</td>\n",
       "      <td>46.0</td>\n",
       "      <td>9.0</td>\n",
       "      <td>0.0</td>\n",
       "      <td>0</td>\n",
       "    </tr>\n",
       "    <tr>\n",
       "      <th>3</th>\n",
       "      <td>66503.0</td>\n",
       "      <td>31.0</td>\n",
       "      <td>11.0</td>\n",
       "      <td>0.0</td>\n",
       "      <td>0</td>\n",
       "    </tr>\n",
       "    <tr>\n",
       "      <th>4</th>\n",
       "      <td>66734.0</td>\n",
       "      <td>44.0</td>\n",
       "      <td>12.0</td>\n",
       "      <td>2.0</td>\n",
       "      <td>0</td>\n",
       "    </tr>\n",
       "  </tbody>\n",
       "</table>\n",
       "</div>"
      ],
      "text/plain": [
       "    Salary   age  educ  no_older_children  foreign\n",
       "0  48412.0  30.0   8.0                1.0        0\n",
       "1  37207.0  45.0   8.0                1.0        0\n",
       "2  58022.0  46.0   9.0                0.0        0\n",
       "3  66503.0  31.0  11.0                0.0        0\n",
       "4  66734.0  44.0  12.0                2.0        0"
      ]
     },
     "execution_count": 97,
     "metadata": {},
     "output_type": "execute_result"
    }
   ],
   "source": [
    "X.head()"
   ]
  },
  {
   "cell_type": "code",
   "execution_count": 98,
   "metadata": {},
   "outputs": [],
   "source": [
    "# Split X and y into training and test set in 70:30 ratio\n",
    "from sklearn.model_selection import train_test_split\n",
    "X_train, X_test, y_train, y_test = train_test_split(X, y, test_size=0.30 , random_state=1)\n"
   ]
  },
  {
   "cell_type": "markdown",
   "metadata": {},
   "source": [
    "# Checking the dimensions of the training and test data"
   ]
  },
  {
   "cell_type": "code",
   "execution_count": 99,
   "metadata": {},
   "outputs": [
    {
     "name": "stdout",
     "output_type": "stream",
     "text": [
      "X_train (610, 5)\n",
      "X_test (262, 5)\n",
      "y_train (610,)\n",
      "y_test (262,)\n"
     ]
    }
   ],
   "source": [
    "print('X_train',X_train.shape)\n",
    "print('X_test',X_test.shape)\n",
    "print('y_train',y_train.shape)\n",
    "print('y_test',y_test.shape)"
   ]
  },
  {
   "cell_type": "markdown",
   "metadata": {},
   "source": [
    "# Logistic Regression Model"
   ]
  },
  {
   "cell_type": "code",
   "execution_count": 100,
   "metadata": {},
   "outputs": [
    {
     "name": "stderr",
     "output_type": "stream",
     "text": [
      "[Parallel(n_jobs=2)]: Using backend LokyBackend with 2 concurrent workers.\n",
      "[Parallel(n_jobs=2)]: Done   1 out of   1 | elapsed:    3.1s finished\n"
     ]
    },
    {
     "data": {
      "text/plain": [
       "LogisticRegression(C=1.0, class_weight=None, dual=False, fit_intercept=True,\n",
       "                   intercept_scaling=1, l1_ratio=None, max_iter=10000,\n",
       "                   multi_class='auto', n_jobs=2, penalty='none',\n",
       "                   random_state=None, solver='newton-cg', tol=0.0001,\n",
       "                   verbose=True, warm_start=False)"
      ]
     },
     "execution_count": 100,
     "metadata": {},
     "output_type": "execute_result"
    }
   ],
   "source": [
    "# Fit the Logistic Regression model\n",
    "lgr = LogisticRegression(solver='newton-cg',max_iter=10000,penalty='none',verbose=True,n_jobs=2)\n",
    "lgr.fit(X_train, y_train)"
   ]
  },
  {
   "cell_type": "markdown",
   "metadata": {},
   "source": [
    "# Predicting on Training and Test dataset\n"
   ]
  },
  {
   "cell_type": "code",
   "execution_count": 101,
   "metadata": {},
   "outputs": [],
   "source": [
    "ytrain_predict = lgr.predict(X_train)\n",
    "ytest_predict = lgr.predict(X_test)"
   ]
  },
  {
   "cell_type": "markdown",
   "metadata": {},
   "source": [
    "# Getting the Predicted Classes and Probs"
   ]
  },
  {
   "cell_type": "code",
   "execution_count": 102,
   "metadata": {},
   "outputs": [
    {
     "data": {
      "text/html": [
       "<div>\n",
       "<style scoped>\n",
       "    .dataframe tbody tr th:only-of-type {\n",
       "        vertical-align: middle;\n",
       "    }\n",
       "\n",
       "    .dataframe tbody tr th {\n",
       "        vertical-align: top;\n",
       "    }\n",
       "\n",
       "    .dataframe thead th {\n",
       "        text-align: right;\n",
       "    }\n",
       "</style>\n",
       "<table border=\"1\" class=\"dataframe\">\n",
       "  <thead>\n",
       "    <tr style=\"text-align: right;\">\n",
       "      <th></th>\n",
       "      <th>0</th>\n",
       "      <th>1</th>\n",
       "    </tr>\n",
       "  </thead>\n",
       "  <tbody>\n",
       "    <tr>\n",
       "      <th>0</th>\n",
       "      <td>0.696807</td>\n",
       "      <td>0.303193</td>\n",
       "    </tr>\n",
       "    <tr>\n",
       "      <th>1</th>\n",
       "      <td>0.332213</td>\n",
       "      <td>0.667787</td>\n",
       "    </tr>\n",
       "    <tr>\n",
       "      <th>2</th>\n",
       "      <td>0.620128</td>\n",
       "      <td>0.379872</td>\n",
       "    </tr>\n",
       "    <tr>\n",
       "      <th>3</th>\n",
       "      <td>0.686886</td>\n",
       "      <td>0.313114</td>\n",
       "    </tr>\n",
       "    <tr>\n",
       "      <th>4</th>\n",
       "      <td>0.354964</td>\n",
       "      <td>0.645036</td>\n",
       "    </tr>\n",
       "  </tbody>\n",
       "</table>\n",
       "</div>"
      ],
      "text/plain": [
       "          0         1\n",
       "0  0.696807  0.303193\n",
       "1  0.332213  0.667787\n",
       "2  0.620128  0.379872\n",
       "3  0.686886  0.313114\n",
       "4  0.354964  0.645036"
      ]
     },
     "execution_count": 102,
     "metadata": {},
     "output_type": "execute_result"
    }
   ],
   "source": [
    "ytest_predict_prob=lgr.predict_proba(X_test)\n",
    "pd.DataFrame(ytest_predict_prob).head()"
   ]
  },
  {
   "cell_type": "markdown",
   "metadata": {},
   "source": [
    "# Model Evaluation"
   ]
  },
  {
   "cell_type": "code",
   "execution_count": 106,
   "metadata": {},
   "outputs": [
    {
     "name": "stdout",
     "output_type": "stream",
     "text": [
      "Accuracy score of training data is 0.6409836065573771\n"
     ]
    }
   ],
   "source": [
    "# Accuracy - Training Data\n",
    "lgr_train_acc=lgr.score(X_train, y_train)\n",
    "print(\"Accuracy score of training data is\",lgr_train_acc)"
   ]
  },
  {
   "cell_type": "markdown",
   "metadata": {},
   "source": [
    "# AUC and ROC for the training data"
   ]
  },
  {
   "cell_type": "code",
   "execution_count": 119,
   "metadata": {},
   "outputs": [
    {
     "name": "stdout",
     "output_type": "stream",
     "text": [
      "AUC-ROC of training data: 0.667\n"
     ]
    },
    {
     "data": {
      "text/plain": [
       "[<matplotlib.lines.Line2D at 0x2283a655308>]"
      ]
     },
     "execution_count": 119,
     "metadata": {},
     "output_type": "execute_result"
    },
    {
     "data": {
      "image/png": "[encoded data removed]",
      "text/plain": [
       "<Figure size 432x288 with 1 Axes>"
      ]
     },
     "metadata": {
      "needs_background": "light"
     },
     "output_type": "display_data"
    }
   ],
   "source": [
    "# predict probabilities\n",
    "probs = lgr.predict_proba(X_train)\n",
    "# keep probabilities for the positive outcome only\n",
    "probs = probs[:, 1]\n",
    "# calculate AUC\n",
    "auc = roc_auc_score(y_train, probs)\n",
    "print('AUC-ROC of training data: %.3f' % auc)\n",
    "# calculate roc curve\n",
    "train_fpr, train_tpr, train_thresholds = roc_curve(y_train, probs)\n",
    "plt.plot([0, 1], [0, 1], linestyle='--')\n",
    "# plot the roc curve for the model\n",
    "plt.plot(train_fpr, train_tpr)"
   ]
  },
  {
   "cell_type": "code",
   "execution_count": 109,
   "metadata": {},
   "outputs": [
    {
     "name": "stdout",
     "output_type": "stream",
     "text": [
      "Accuracy score of test data is 0.6297709923664122\n"
     ]
    }
   ],
   "source": [
    "# Accuracy - Test Data\n",
    "lgr_test_acc=lgr.score(X_test, y_test)\n",
    "print(\"Accuracy score of test data is\",lgr_test_acc)"
   ]
  },
  {
   "cell_type": "markdown",
   "metadata": {},
   "source": [
    "# AUC and ROC for the test data\n"
   ]
  },
  {
   "cell_type": "code",
   "execution_count": 120,
   "metadata": {},
   "outputs": [
    {
     "name": "stdout",
     "output_type": "stream",
     "text": [
      "AUC-ROC of test data: 0.667\n"
     ]
    },
    {
     "data": {
      "text/plain": [
       "[<matplotlib.lines.Line2D at 0x2283a690308>]"
      ]
     },
     "execution_count": 120,
     "metadata": {},
     "output_type": "execute_result"
    },
    {
     "data": {
      "image/png": "[encoded data removed]",
      "text/plain": [
       "<Figure size 432x288 with 1 Axes>"
      ]
     },
     "metadata": {
      "needs_background": "light"
     },
     "output_type": "display_data"
    }
   ],
   "source": [
    "# predict probabilities\n",
    "probs = lgr.predict_proba(X_test)\n",
    "# keep probabilities for the positive outcome only\n",
    "probs = probs[:, 1]\n",
    "# calculate AUC\n",
    "test_auc = roc_auc_score(y_test, probs)\n",
    "print('AUC-ROC of test data: %.3f' % auc)\n",
    "# calculate roc curve\n",
    "test_fpr, test_tpr, test_thresholds = roc_curve(y_test, probs)\n",
    "plt.plot([0, 1], [0, 1], linestyle='--')\n",
    "# plot the roc curve for the model\n",
    "plt.plot(test_fpr, test_tpr)"
   ]
  },
  {
   "cell_type": "markdown",
   "metadata": {},
   "source": [
    "# Confusion Matrix for the training data\n"
   ]
  },
  {
   "cell_type": "code",
   "execution_count": 111,
   "metadata": {},
   "outputs": [
    {
     "data": {
      "text/plain": [
       "array([[265,  61],\n",
       "       [158, 126]], dtype=int64)"
      ]
     },
     "execution_count": 111,
     "metadata": {},
     "output_type": "execute_result"
    }
   ],
   "source": [
    "confusion_matrix(y_train, ytrain_predict)"
   ]
  },
  {
   "cell_type": "code",
   "execution_count": 112,
   "metadata": {},
   "outputs": [
    {
     "name": "stdout",
     "output_type": "stream",
     "text": [
      "              precision    recall  f1-score   support\n",
      "\n",
      "           0       0.63      0.81      0.71       326\n",
      "           1       0.67      0.44      0.54       284\n",
      "\n",
      "    accuracy                           0.64       610\n",
      "   macro avg       0.65      0.63      0.62       610\n",
      "weighted avg       0.65      0.64      0.63       610\n",
      "\n"
     ]
    }
   ],
   "source": [
    "print(classification_report(y_train, ytrain_predict))"
   ]
  },
  {
   "cell_type": "code",
   "execution_count": 113,
   "metadata": {},
   "outputs": [
    {
     "name": "stdout",
     "output_type": "stream",
     "text": [
      "lgr_train_precision  0.67\n",
      "lgr_train_recall  0.44\n",
      "lgr_train_f1  0.54\n"
     ]
    }
   ],
   "source": [
    "lgr_metrics=classification_report(y_train, ytrain_predict,output_dict=True)\n",
    "df=pd.DataFrame(lgr_metrics).transpose()\n",
    "lgr_train_precision=round(df.loc[\"1\"][0],2)\n",
    "lgr_train_recall=round(df.loc[\"1\"][1],2)\n",
    "lgr_train_f1=round(df.loc[\"1\"][2],2)\n",
    "print ('lgr_train_precision ',lgr_train_precision)\n",
    "print ('lgr_train_recall ',lgr_train_recall)\n",
    "print ('lgr_train_f1 ',lgr_train_f1)"
   ]
  },
  {
   "cell_type": "code",
   "execution_count": 114,
   "metadata": {},
   "outputs": [
    {
     "name": "stdout",
     "output_type": "stream",
     "text": [
      "Area under Curve is 0.628272703706904\n"
     ]
    },
    {
     "data": {
      "image/png": "[encoded data removed]",
      "text/plain": [
       "<Figure size 432x288 with 1 Axes>"
      ]
     },
     "metadata": {
      "needs_background": "light"
     },
     "output_type": "display_data"
    }
   ],
   "source": [
    "lgr_train_fpr, lgr_train_tpr,_=roc_curve(y_train,lgr.predict_proba(X_train)[:,1])\n",
    "plt.plot(lgr_train_fpr,lgr_train_tpr,color='black')\n",
    "plt.plot([0, 1], [0, 1], linestyle='--')\n",
    "plt.xlabel('False Positive Rate')\n",
    "plt.ylabel('True Positive Rate')\n",
    "plt.title('ROC')\n",
    "lgr_train_auc=roc_auc_score(y_train,lgr.predict(X_train))\n",
    "print('Area under Curve is', lgr_train_auc)"
   ]
  },
  {
   "cell_type": "markdown",
   "metadata": {},
   "source": [
    "# Confusion Matrix for the test data\n"
   ]
  },
  {
   "cell_type": "code",
   "execution_count": 115,
   "metadata": {},
   "outputs": [
    {
     "data": {
      "text/plain": [
       "array([[113,  32],\n",
       "       [ 65,  52]], dtype=int64)"
      ]
     },
     "execution_count": 115,
     "metadata": {},
     "output_type": "execute_result"
    }
   ],
   "source": [
    "cnf_matrix=confusion_matrix(y_test, ytest_predict)\n",
    "cnf_matrix"
   ]
  },
  {
   "cell_type": "code",
   "execution_count": 116,
   "metadata": {},
   "outputs": [
    {
     "name": "stdout",
     "output_type": "stream",
     "text": [
      "              precision    recall  f1-score   support\n",
      "\n",
      "           0       0.63      0.78      0.70       145\n",
      "           1       0.62      0.44      0.52       117\n",
      "\n",
      "    accuracy                           0.63       262\n",
      "   macro avg       0.63      0.61      0.61       262\n",
      "weighted avg       0.63      0.63      0.62       262\n",
      "\n"
     ]
    }
   ],
   "source": [
    "print(classification_report(y_test, ytest_predict))"
   ]
  },
  {
   "cell_type": "code",
   "execution_count": 117,
   "metadata": {},
   "outputs": [
    {
     "name": "stdout",
     "output_type": "stream",
     "text": [
      "lgr_test_precision  0.62\n",
      "lgr_test_recall  0.44\n",
      "lgr_test_f1  0.52\n"
     ]
    }
   ],
   "source": [
    "lgr_metrics=classification_report(y_test, ytest_predict,output_dict=True)\n",
    "df=pd.DataFrame(lgr_metrics).transpose()\n",
    "lgr_test_precision=round(df.loc[\"1\"][0],2)\n",
    "lgr_test_recall=round(df.loc[\"1\"][1],2)\n",
    "lgr_test_f1=round(df.loc[\"1\"][2],2)\n",
    "print ('lgr_test_precision ',lgr_test_precision)\n",
    "print ('lgr_test_recall ',lgr_test_recall)\n",
    "print ('lgr_test_f1 ',lgr_test_f1)"
   ]
  },
  {
   "cell_type": "code",
   "execution_count": 118,
   "metadata": {},
   "outputs": [
    {
     "name": "stdout",
     "output_type": "stream",
     "text": [
      "Area under Curve is 0.6118773946360153\n"
     ]
    },
    {
     "data": {
      "image/png": "[encoded data removed]",
      "text/plain": [
       "<Figure size 432x288 with 1 Axes>"
      ]
     },
     "metadata": {
      "needs_background": "light"
     },
     "output_type": "display_data"
    }
   ],
   "source": [
    "lgr_test_fpr, lgr_test_tpr,_=roc_curve(y_test,lgr.predict_proba(X_test)[:,1])\n",
    "plt.plot(lgr_test_fpr,lgr_test_tpr,color='black')\n",
    "plt.plot([0, 1], [0, 1], linestyle='--')\n",
    "plt.xlabel('False Positive Rate')\n",
    "plt.ylabel('True Positive Rate')\n",
    "plt.title('ROC')\n",
    "lgr_test_auc=roc_auc_score(y_test,lgr.predict(X_test))\n",
    "print('Area under Curve is', lgr_test_auc)"
   ]
  },
  {
   "cell_type": "markdown",
   "metadata": {},
   "source": [
    "# Conclusion"
   ]
  },
  {
   "cell_type": "code",
   "execution_count": null,
   "metadata": {},
   "outputs": [],
   "source": [
    "Accuracy on Test data is 63% and on Train data is 64%.\n",
    "AUC-ROC score of test data is 61% and train data is 67%.\n",
    "Recall and Precision is low and same on both data.\n",
    "While the model results between training and test sets are similar, indicating no under or overfitting issues, \n",
    "overall prediction of the model is weaker in terms of predicting Holliday_Package = 1. Considering\n",
    "the class imabalance ratio is moderate and not high, with more training data, the model is expected to perform even better."
   ]
  },
  {
   "cell_type": "markdown",
   "metadata": {},
   "source": [
    "# Linear Discriminant Analysis(LDA) Model"
   ]
  },
  {
   "cell_type": "code",
   "execution_count": 175,
   "metadata": {},
   "outputs": [],
   "source": [
    "lda = LinearDiscriminantAnalysis()\n",
    "ldam=lda.fit(X_train,y_train)"
   ]
  },
  {
   "cell_type": "code",
   "execution_count": 176,
   "metadata": {},
   "outputs": [
    {
     "data": {
      "text/plain": [
       "LinearDiscriminantAnalysis(n_components=None, priors=None, shrinkage=None,\n",
       "                           solver='svd', store_covariance=False, tol=0.0001)"
      ]
     },
     "execution_count": 176,
     "metadata": {},
     "output_type": "execute_result"
    }
   ],
   "source": [
    "ldam"
   ]
  },
  {
   "cell_type": "markdown",
   "metadata": {},
   "source": [
    "# Predicting on Training and Test dataset\n"
   ]
  },
  {
   "cell_type": "code",
   "execution_count": 122,
   "metadata": {},
   "outputs": [],
   "source": [
    "ytrain_predict = ldam.predict(X_train)\n",
    "ytest_predict = ldam.predict(X_test)"
   ]
  },
  {
   "cell_type": "markdown",
   "metadata": {},
   "source": [
    "# Getting the Predicted Classes and Probs"
   ]
  },
  {
   "cell_type": "code",
   "execution_count": 123,
   "metadata": {},
   "outputs": [
    {
     "data": {
      "text/html": [
       "<div>\n",
       "<style scoped>\n",
       "    .dataframe tbody tr th:only-of-type {\n",
       "        vertical-align: middle;\n",
       "    }\n",
       "\n",
       "    .dataframe tbody tr th {\n",
       "        vertical-align: top;\n",
       "    }\n",
       "\n",
       "    .dataframe thead th {\n",
       "        text-align: right;\n",
       "    }\n",
       "</style>\n",
       "<table border=\"1\" class=\"dataframe\">\n",
       "  <thead>\n",
       "    <tr style=\"text-align: right;\">\n",
       "      <th></th>\n",
       "      <th>0</th>\n",
       "      <th>1</th>\n",
       "    </tr>\n",
       "  </thead>\n",
       "  <tbody>\n",
       "    <tr>\n",
       "      <th>0</th>\n",
       "      <td>0.701405</td>\n",
       "      <td>0.298595</td>\n",
       "    </tr>\n",
       "    <tr>\n",
       "      <th>1</th>\n",
       "      <td>0.326676</td>\n",
       "      <td>0.673324</td>\n",
       "    </tr>\n",
       "    <tr>\n",
       "      <th>2</th>\n",
       "      <td>0.625464</td>\n",
       "      <td>0.374536</td>\n",
       "    </tr>\n",
       "    <tr>\n",
       "      <th>3</th>\n",
       "      <td>0.691134</td>\n",
       "      <td>0.308866</td>\n",
       "    </tr>\n",
       "    <tr>\n",
       "      <th>4</th>\n",
       "      <td>0.360268</td>\n",
       "      <td>0.639732</td>\n",
       "    </tr>\n",
       "  </tbody>\n",
       "</table>\n",
       "</div>"
      ],
      "text/plain": [
       "          0         1\n",
       "0  0.701405  0.298595\n",
       "1  0.326676  0.673324\n",
       "2  0.625464  0.374536\n",
       "3  0.691134  0.308866\n",
       "4  0.360268  0.639732"
      ]
     },
     "execution_count": 123,
     "metadata": {},
     "output_type": "execute_result"
    }
   ],
   "source": [
    "ytest_predict_prob=ldam.predict_proba(X_test)\n",
    "pd.DataFrame(ytest_predict_prob).head()"
   ]
  },
  {
   "cell_type": "markdown",
   "metadata": {},
   "source": [
    "# Model Evaluation"
   ]
  },
  {
   "cell_type": "code",
   "execution_count": 126,
   "metadata": {},
   "outputs": [
    {
     "name": "stdout",
     "output_type": "stream",
     "text": [
      "Accuracy score of training data is 0.6426229508196721\n"
     ]
    }
   ],
   "source": [
    "# Accuracy - Training Data\n",
    "ldam_train_acc=ldam.score(X_train, y_train)\n",
    "print(\"Accuracy score of training data is\",ldam_train_acc)"
   ]
  },
  {
   "cell_type": "markdown",
   "metadata": {},
   "source": [
    "# AUC and ROC for the training data"
   ]
  },
  {
   "cell_type": "code",
   "execution_count": 127,
   "metadata": {},
   "outputs": [
    {
     "name": "stdout",
     "output_type": "stream",
     "text": [
      "AUC_ROC score of training data: 0.667\n"
     ]
    },
    {
     "data": {
      "text/plain": [
       "[<matplotlib.lines.Line2D at 0x2283a723b88>]"
      ]
     },
     "execution_count": 127,
     "metadata": {},
     "output_type": "execute_result"
    },
    {
     "data": {
      "image/png": "[encoded data removed]",
      "text/plain": [
       "<Figure size 432x288 with 1 Axes>"
      ]
     },
     "metadata": {
      "needs_background": "light"
     },
     "output_type": "display_data"
    }
   ],
   "source": [
    "# predict probabilities\n",
    "probs = ldam.predict_proba(X_train)\n",
    "# keep probabilities for the positive outcome only\n",
    "probs = probs[:, 1]\n",
    "# calculate AUC\n",
    "auc = roc_auc_score(y_train, probs)\n",
    "print('AUC_ROC score of training data: %.3f' % auc)\n",
    "# calculate roc curve\n",
    "train_fpr, train_tpr, train_thresholds = roc_curve(y_train, probs)\n",
    "plt.plot([0, 1], [0, 1], linestyle='--')\n",
    "# plot the roc curve for the model\n",
    "plt.plot(train_fpr, train_tpr)"
   ]
  },
  {
   "cell_type": "code",
   "execution_count": 128,
   "metadata": {},
   "outputs": [
    {
     "name": "stdout",
     "output_type": "stream",
     "text": [
      "Accuracy score of test data is 0.6297709923664122\n"
     ]
    }
   ],
   "source": [
    "# Accuracy - Test Data\n",
    "ldam_test_acc=ldam.score(X_test, y_test)\n",
    "print(\"Accuracy score of test data is\",ldam_test_acc)"
   ]
  },
  {
   "cell_type": "markdown",
   "metadata": {},
   "source": [
    "# AUC and ROC for the test data\n"
   ]
  },
  {
   "cell_type": "code",
   "execution_count": 129,
   "metadata": {},
   "outputs": [
    {
     "name": "stdout",
     "output_type": "stream",
     "text": [
      "AUC-ROC score of test data: 0.667\n"
     ]
    },
    {
     "data": {
      "text/plain": [
       "[<matplotlib.lines.Line2D at 0x2283a7ae7c8>]"
      ]
     },
     "execution_count": 129,
     "metadata": {},
     "output_type": "execute_result"
    },
    {
     "data": {
      "image/png": "[encoded data removed]",
      "text/plain": [
       "<Figure size 432x288 with 1 Axes>"
      ]
     },
     "metadata": {
      "needs_background": "light"
     },
     "output_type": "display_data"
    }
   ],
   "source": [
    "# predict probabilities\n",
    "probs = ldam.predict_proba(X_test)\n",
    "# keep probabilities for the positive outcome only\n",
    "probs = probs[:, 1]\n",
    "# calculate AUC\n",
    "test_auc = roc_auc_score(y_test, probs)\n",
    "print('AUC-ROC score of test data: %.3f' % auc)\n",
    "# calculate roc curve\n",
    "test_fpr, test_tpr, test_thresholds = roc_curve(y_test, probs)\n",
    "plt.plot([0, 1], [0, 1], linestyle='--')\n",
    "# plot the roc curve for the model\n",
    "plt.plot(test_fpr, test_tpr)"
   ]
  },
  {
   "cell_type": "markdown",
   "metadata": {},
   "source": [
    "# Confusion Matrix for the training data\n"
   ]
  },
  {
   "cell_type": "code",
   "execution_count": 130,
   "metadata": {},
   "outputs": [
    {
     "data": {
      "text/plain": [
       "array([[269,  57],\n",
       "       [161, 123]], dtype=int64)"
      ]
     },
     "execution_count": 130,
     "metadata": {},
     "output_type": "execute_result"
    }
   ],
   "source": [
    "confusion_matrix(y_train, ytrain_predict)"
   ]
  },
  {
   "cell_type": "code",
   "execution_count": 131,
   "metadata": {},
   "outputs": [
    {
     "name": "stdout",
     "output_type": "stream",
     "text": [
      "              precision    recall  f1-score   support\n",
      "\n",
      "           0       0.63      0.83      0.71       326\n",
      "           1       0.68      0.43      0.53       284\n",
      "\n",
      "    accuracy                           0.64       610\n",
      "   macro avg       0.65      0.63      0.62       610\n",
      "weighted avg       0.65      0.64      0.63       610\n",
      "\n"
     ]
    }
   ],
   "source": [
    "print(classification_report(y_train, ytrain_predict))"
   ]
  },
  {
   "cell_type": "code",
   "execution_count": 132,
   "metadata": {},
   "outputs": [
    {
     "name": "stdout",
     "output_type": "stream",
     "text": [
      "ldam_train_precision  0.68\n",
      "ldam_train_recall  0.43\n",
      "ldam_train_f1  0.53\n"
     ]
    }
   ],
   "source": [
    "ldam_metrics=classification_report(y_train, ytrain_predict,output_dict=True)\n",
    "df=pd.DataFrame(ldam_metrics).transpose()\n",
    "ldam_train_precision=round(df.loc[\"1\"][0],2)\n",
    "ldam_train_recall=round(df.loc[\"1\"][1],2)\n",
    "ldam_train_f1=round(df.loc[\"1\"][2],2)\n",
    "print ('ldam_train_precision ',ldam_train_precision)\n",
    "print ('ldam_train_recall ',ldam_train_recall)\n",
    "print ('ldam_train_f1 ',ldam_train_f1)"
   ]
  },
  {
   "cell_type": "code",
   "execution_count": 133,
   "metadata": {},
   "outputs": [
    {
     "name": "stdout",
     "output_type": "stream",
     "text": [
      "Area under Curve is 0.6291259828912122\n"
     ]
    },
    {
     "data": {
      "image/png": "[encoded data removed]",
      "text/plain": [
       "<Figure size 432x288 with 1 Axes>"
      ]
     },
     "metadata": {
      "needs_background": "light"
     },
     "output_type": "display_data"
    }
   ],
   "source": [
    "ldam_train_fpr, ldam_train_tpr,_=roc_curve(y_train,ldam.predict_proba(X_train)[:,1])\n",
    "plt.plot(ldam_train_fpr,ldam_train_tpr,color='black')\n",
    "plt.plot([0, 1], [0, 1], linestyle='--')\n",
    "plt.xlabel('False Positive Rate')\n",
    "plt.ylabel('True Positive Rate')\n",
    "plt.title('ROC')\n",
    "ldam_train_auc=roc_auc_score(y_train,ldam.predict(X_train))\n",
    "print('Area under Curve is', ldam_train_auc)"
   ]
  },
  {
   "cell_type": "code",
   "execution_count": null,
   "metadata": {},
   "outputs": [],
   "source": []
  },
  {
   "cell_type": "markdown",
   "metadata": {},
   "source": [
    "# Confusion Matrix for the test data\n"
   ]
  },
  {
   "cell_type": "code",
   "execution_count": 134,
   "metadata": {},
   "outputs": [
    {
     "data": {
      "text/plain": [
       "array([[113,  32],\n",
       "       [ 65,  52]], dtype=int64)"
      ]
     },
     "execution_count": 134,
     "metadata": {},
     "output_type": "execute_result"
    }
   ],
   "source": [
    "cnf_matrix=confusion_matrix(y_test, ytest_predict)\n",
    "cnf_matrix"
   ]
  },
  {
   "cell_type": "code",
   "execution_count": 135,
   "metadata": {},
   "outputs": [
    {
     "name": "stdout",
     "output_type": "stream",
     "text": [
      "              precision    recall  f1-score   support\n",
      "\n",
      "           0       0.63      0.78      0.70       145\n",
      "           1       0.62      0.44      0.52       117\n",
      "\n",
      "    accuracy                           0.63       262\n",
      "   macro avg       0.63      0.61      0.61       262\n",
      "weighted avg       0.63      0.63      0.62       262\n",
      "\n"
     ]
    }
   ],
   "source": [
    "print(classification_report(y_test, ytest_predict))"
   ]
  },
  {
   "cell_type": "code",
   "execution_count": 136,
   "metadata": {},
   "outputs": [
    {
     "name": "stdout",
     "output_type": "stream",
     "text": [
      "ldam_test_precision  0.62\n",
      "ldam_test_recall  0.44\n",
      "ldam_test_f1  0.52\n"
     ]
    }
   ],
   "source": [
    "ldam_metrics=classification_report(y_test, ytest_predict,output_dict=True)\n",
    "df=pd.DataFrame(ldam_metrics).transpose()\n",
    "ldam_test_precision=round(df.loc[\"1\"][0],2)\n",
    "ldam_test_recall=round(df.loc[\"1\"][1],2)\n",
    "ldam_test_f1=round(df.loc[\"1\"][2],2)\n",
    "print ('ldam_test_precision ',ldam_test_precision)\n",
    "print ('ldam_test_recall ',ldam_test_recall)\n",
    "print ('ldam_test_f1 ',ldam_test_f1)"
   ]
  },
  {
   "cell_type": "code",
   "execution_count": 137,
   "metadata": {},
   "outputs": [
    {
     "name": "stdout",
     "output_type": "stream",
     "text": [
      "Area under Curve is 0.6118773946360153\n"
     ]
    },
    {
     "data": {
      "image/png": "[encoded data removed]",
      "text/plain": [
       "<Figure size 432x288 with 1 Axes>"
      ]
     },
     "metadata": {
      "needs_background": "light"
     },
     "output_type": "display_data"
    }
   ],
   "source": [
    "ldam_test_fpr, ldam_test_tpr,_=roc_curve(y_test,ldam.predict_proba(X_test)[:,1])\n",
    "plt.plot(ldam_test_fpr,ldam_test_tpr,color='black')\n",
    "plt.plot([0, 1], [0, 1], linestyle='--')\n",
    "plt.xlabel('False Positive Rate')\n",
    "plt.ylabel('True Positive Rate')\n",
    "plt.title('ROC')\n",
    "ldam_test_auc=roc_auc_score(y_test,ldam.predict(X_test))\n",
    "print('Area under Curve is', ldam_test_auc)"
   ]
  },
  {
   "cell_type": "code",
   "execution_count": null,
   "metadata": {},
   "outputs": [],
   "source": []
  },
  {
   "cell_type": "markdown",
   "metadata": {},
   "source": [
    "# Conclusion"
   ]
  },
  {
   "cell_type": "code",
   "execution_count": null,
   "metadata": {},
   "outputs": [],
   "source": [
    "Accuracy on Test data is 63% and on Train data is 64%.\n",
    "AUC-ROC score of test data and train data are 67%.\n",
    "Recall and Precision is low and almost same on both data.\n",
    "While the model results between training and test sets are similar, indicating no under or overfitting issues, \n",
    "overall prediction of the model is weaker in terms of predicting Holliday_Package = 1. Considering\n",
    "the class imabalance ratio is moderate and not high, with more training data, the model is expected to perform even better."
   ]
  },
  {
   "cell_type": "markdown",
   "metadata": {},
   "source": [
    "# Final Conclusion"
   ]
  },
  {
   "cell_type": "markdown",
   "metadata": {},
   "source": [
    "# Comparison of the performance metrics from the 2 models"
   ]
  },
  {
   "cell_type": "code",
   "execution_count": 138,
   "metadata": {},
   "outputs": [
    {
     "data": {
      "text/html": [
       "<div>\n",
       "<style scoped>\n",
       "    .dataframe tbody tr th:only-of-type {\n",
       "        vertical-align: middle;\n",
       "    }\n",
       "\n",
       "    .dataframe tbody tr th {\n",
       "        vertical-align: top;\n",
       "    }\n",
       "\n",
       "    .dataframe thead th {\n",
       "        text-align: right;\n",
       "    }\n",
       "</style>\n",
       "<table border=\"1\" class=\"dataframe\">\n",
       "  <thead>\n",
       "    <tr style=\"text-align: right;\">\n",
       "      <th></th>\n",
       "      <th>Logistic Regression Train</th>\n",
       "      <th>Logistic Regression Test</th>\n",
       "      <th>LDA Train</th>\n",
       "      <th>LDA Test</th>\n",
       "    </tr>\n",
       "  </thead>\n",
       "  <tbody>\n",
       "    <tr>\n",
       "      <th>Accuracy</th>\n",
       "      <td>0.64</td>\n",
       "      <td>0.63</td>\n",
       "      <td>0.64</td>\n",
       "      <td>0.63</td>\n",
       "    </tr>\n",
       "    <tr>\n",
       "      <th>AUC</th>\n",
       "      <td>0.63</td>\n",
       "      <td>0.61</td>\n",
       "      <td>0.63</td>\n",
       "      <td>0.61</td>\n",
       "    </tr>\n",
       "    <tr>\n",
       "      <th>Recall</th>\n",
       "      <td>0.44</td>\n",
       "      <td>0.44</td>\n",
       "      <td>0.43</td>\n",
       "      <td>0.44</td>\n",
       "    </tr>\n",
       "    <tr>\n",
       "      <th>Precision</th>\n",
       "      <td>0.67</td>\n",
       "      <td>0.62</td>\n",
       "      <td>0.68</td>\n",
       "      <td>0.62</td>\n",
       "    </tr>\n",
       "    <tr>\n",
       "      <th>F1 Score</th>\n",
       "      <td>0.54</td>\n",
       "      <td>0.52</td>\n",
       "      <td>0.53</td>\n",
       "      <td>0.52</td>\n",
       "    </tr>\n",
       "  </tbody>\n",
       "</table>\n",
       "</div>"
      ],
      "text/plain": [
       "           Logistic Regression Train  Logistic Regression Test  LDA Train  \\\n",
       "Accuracy                        0.64                      0.63       0.64   \n",
       "AUC                             0.63                      0.61       0.63   \n",
       "Recall                          0.44                      0.44       0.43   \n",
       "Precision                       0.67                      0.62       0.68   \n",
       "F1 Score                        0.54                      0.52       0.53   \n",
       "\n",
       "           LDA Test  \n",
       "Accuracy       0.63  \n",
       "AUC            0.61  \n",
       "Recall         0.44  \n",
       "Precision      0.62  \n",
       "F1 Score       0.52  "
      ]
     },
     "execution_count": 138,
     "metadata": {},
     "output_type": "execute_result"
    }
   ],
   "source": [
    "index=['Accuracy', 'AUC', 'Recall','Precision','F1 Score']\n",
    "data = pd.DataFrame({'Logistic Regression Train':[lgr_train_acc,lgr_train_auc,lgr_train_recall,lgr_train_precision,lgr_train_f1],\n",
    "        'Logistic Regression Test':[lgr_test_acc,lgr_test_auc,lgr_test_recall,lgr_test_precision,lgr_test_f1],\n",
    "        'LDA Train':[ldam_train_acc,ldam_train_auc,ldam_train_recall,ldam_train_precision,ldam_train_f1],\n",
    "        'LDA Test':[ldam_test_acc,ldam_test_auc,ldam_test_recall,ldam_test_precision,ldam_test_f1]},index=index)\n",
    "round(data,2)"
   ]
  },
  {
   "cell_type": "markdown",
   "metadata": {},
   "source": [
    "# ROC Curve for the 2 models on the Training data"
   ]
  },
  {
   "cell_type": "code",
   "execution_count": 140,
   "metadata": {},
   "outputs": [
    {
     "data": {
      "text/plain": [
       "<matplotlib.legend.Legend at 0x2283a746fc8>"
      ]
     },
     "execution_count": 140,
     "metadata": {},
     "output_type": "execute_result"
    },
    {
     "data": {
      "image/png": "[encoded data removed]",
      "text/plain": [
       "<Figure size 432x288 with 1 Axes>"
      ]
     },
     "metadata": {
      "needs_background": "light"
     },
     "output_type": "display_data"
    }
   ],
   "source": [
    "plt.plot([0, 1], [0, 1], linestyle='--')\n",
    "plt.plot(lgr_train_fpr, lgr_train_tpr,color='red',label=\"Logistic Regression\")\n",
    "plt.plot(ldam_train_fpr,ldam_train_tpr,color='green',label=\"Linear Discriminant Analysis\")\n",
    "plt.xlabel('False Positive Rate')\n",
    "plt.ylabel('True Positive Rate')\n",
    "plt.title('ROC')\n",
    "plt.legend(bbox_to_anchor=(0., 1.02, 1., .102), loc='lower right')"
   ]
  },
  {
   "cell_type": "markdown",
   "metadata": {},
   "source": [
    "# ROC Curve for the 2 models on the Test data"
   ]
  },
  {
   "cell_type": "code",
   "execution_count": 141,
   "metadata": {},
   "outputs": [
    {
     "data": {
      "text/plain": [
       "<matplotlib.legend.Legend at 0x2283a5e6c88>"
      ]
     },
     "execution_count": 141,
     "metadata": {},
     "output_type": "execute_result"
    },
    {
     "data": {
      "image/png": "[encoded data removed]",
      "text/plain": [
       "<Figure size 432x288 with 1 Axes>"
      ]
     },
     "metadata": {
      "needs_background": "light"
     },
     "output_type": "display_data"
    }
   ],
   "source": [
    "plt.plot([0, 1], [0, 1], linestyle='--')\n",
    "plt.plot(lgr_test_fpr, lgr_test_tpr,color='red',label=\"Logistic Regression\")\n",
    "plt.plot(ldam_test_fpr,ldam_test_tpr,color='green',label=\"Linear Discriminant Analysis\")\n",
    "plt.xlabel('False Positive Rate')\n",
    "plt.ylabel('True Positive Rate')\n",
    "plt.title('ROC')\n",
    "plt.legend(bbox_to_anchor=(0., 1.02, 1., .102), loc='lower right')"
   ]
  },
  {
   "cell_type": "code",
   "execution_count": 165,
   "metadata": {},
   "outputs": [],
   "source": [
    "X = hp.drop('Holliday_Package', axis=1)\n",
    "y = hp['Holliday_Package']\n"
   ]
  },
  {
   "cell_type": "code",
   "execution_count": 166,
   "metadata": {},
   "outputs": [],
   "source": [
    "X_train, X_test, y_train, y_test = train_test_split(X, y, test_size=0.30 , random_state=1)"
   ]
  },
  {
   "cell_type": "code",
   "execution_count": 167,
   "metadata": {},
   "outputs": [
    {
     "name": "stderr",
     "output_type": "stream",
     "text": [
      "[Parallel(n_jobs=2)]: Using backend LokyBackend with 2 concurrent workers.\n",
      "[Parallel(n_jobs=2)]: Done   1 out of   1 | elapsed:    1.2s finished\n"
     ]
    }
   ],
   "source": [
    "model = LogisticRegression(solver='newton-cg',max_iter=10000,penalty='none',verbose=True,n_jobs=2)\n",
    "result=model.fit(X_train, y_train)\n",
    "#model1=LinearDiscriminantAnalysis()\n",
    "#result1=model1.fit(X_train, y_train)"
   ]
  },
  {
   "cell_type": "code",
   "execution_count": 168,
   "metadata": {},
   "outputs": [
    {
     "name": "stdout",
     "output_type": "stream",
     "text": [
      "The coefficient for Salary is -1.8534326783574348e-05\n",
      "The coefficient for age is -0.008975309472389897\n",
      "The coefficient for educ is 0.06639476216408273\n",
      "The coefficient for no_older_children is 0.18666758119768978\n",
      "The coefficient for foreign is 1.3317806788235667\n"
     ]
    }
   ],
   "source": [
    "# Let us explore the coefficients for each of the independent attributes\n",
    "for idx, col_name in enumerate(X_train.columns):\n",
    "    print(\"The coefficient for {} is {}\".format(col_name, result.coef_[0][idx]))"
   ]
  },
  {
   "cell_type": "code",
   "execution_count": 170,
   "metadata": {},
   "outputs": [
    {
     "data": {
      "text/plain": [
       "array([[0.99998147, 0.99106485, 1.0686485 , 1.20522658, 3.78778221]])"
      ]
     },
     "execution_count": 170,
     "metadata": {},
     "output_type": "execute_result"
    }
   ],
   "source": [
    "np.exp(result.coef_)"
   ]
  },
  {
   "cell_type": "code",
   "execution_count": null,
   "metadata": {},
   "outputs": [],
   "source": [
    "# important features are same for Logistic Regression and LDA model using coeffiecients."
   ]
  },
  {
   "cell_type": "markdown",
   "metadata": {},
   "source": [
    "# Important features are educ, no_older_children, foreign"
   ]
  },
  {
   "cell_type": "code",
   "execution_count": 171,
   "metadata": {},
   "outputs": [
    {
     "name": "stdout",
     "output_type": "stream",
     "text": [
      "0.6450381679389313\n",
      "[[115  23]\n",
      " [ 70  54]]\n",
      "              precision    recall  f1-score   support\n",
      "\n",
      "           0       0.62      0.83      0.71       138\n",
      "           1       0.70      0.44      0.54       124\n",
      "\n",
      "    accuracy                           0.65       262\n",
      "   macro avg       0.66      0.63      0.62       262\n",
      "weighted avg       0.66      0.65      0.63       262\n",
      "\n"
     ]
    }
   ],
   "source": [
    "# verifying with test data\n",
    "cols=['educ','no_older_children','foreign']\n",
    "X=hp[cols]\n",
    "y = hp['Holliday_Package']\n",
    "X_train, X_test, y_train, y_test = train_test_split(X, y, test_size=0.30 , random_state=7)\n",
    "#model = LogisticRegression(solver='newton-cg',max_iter=10000,penalty='none',verbose=True,n_jobs=2)\n",
    "model=LinearDiscriminantAnalysis()\n",
    "model.fit(X_train, y_train)\n",
    "y_predict = model.predict(X_test)\n",
    "model_score = model.score(X_test, y_test)\n",
    "print(model_score)\n",
    "print(metrics.confusion_matrix(y_test, y_predict))\n",
    "print(metrics.classification_report(y_test, y_predict))"
   ]
  },
  {
   "cell_type": "markdown",
   "metadata": {},
   "source": [
    "Final Conclusion\n",
    "The model accuracy is 65%, which is almost the same value as the number of class 0 observations in the dataset. \n",
    "The higher precision and lower recall value supports this statement. i.e model is only able to correctly predict \n",
    "44% of the class 1 cases . This confirms the model is affected by class imbalance problem. Since, we have only \n",
    "872 observations, if re-build the same logistic regression and LDA model with more number of data, an even better\n",
    "model could be built.\n",
    "Alternatively, Decision Trees,Random Forest and Neural network models can also be used on this dataset to build\n",
    "the predictive model and choose the model which gives a better performance result."
   ]
  },
  {
   "cell_type": "markdown",
   "metadata": {},
   "source": [
    "from sklearn.preprocessing import StandardScaler\n",
    "from sklearn.model_selection import train_test_split\n",
    "from sklearn.linear_model import LinearRegression\n",
    "from sklearn import tree\n",
    "from sklearn.ensemble import RandomForestRegressor\n",
    "from sklearn.neural_network import MLPRegressor\n",
    "from sklearn.metrics import mean_squared_error\n",
    "from sklearn.metrics import mean_absolute_error"
   ]
  },
  {
   "cell_type": "markdown",
   "metadata": {},
   "source": [
    "X = hp.drop('Holliday_Package', axis=1)\n",
    "y = hp['Holliday_Package']\n",
    "x_train,x_test,y_train,y_test=train_test_split(X,y,random_state=123,test_size=0.30)\n",
    "ss=StandardScaler() \n",
    "#we are scaling the data for ANN. Without scaling it will give very poor results. Computations becomes easier\n",
    "x_train_scaled=ss.fit_transform(x_train)\n",
    "x_test_scaled=ss.transform(x_test)\n"
   ]
  },
  {
   "cell_type": "markdown",
   "metadata": {},
   "source": [
    "annr = MLPRegressor(hidden_layer_sizes=(500),random_state=123, max_iter=10000)#you are free to tweak the layer sizes\n",
    "rfr = RandomForestRegressor(random_state=123)\n",
    "dtr = tree.DecisionTreeRegressor(random_state=123)\n",
    "regression_model = LinearRegression()\n",
    "\n",
    "models=[regression_model,dtr,rfr,annr]\n",
    "\n",
    "rmse_train=[]\n",
    "rmse_test=[]\n",
    "scores_train=[]\n",
    "scores_test=[]\n",
    "\n",
    "for i in models:  # we are scaling the data for ANN. Without scaling it will give very poor results. Computations becomes easier\n",
    "    \n",
    "    if (i != annr) :\n",
    "        i.fit(x_train,y_train)\n",
    "        scores_train.append(i.score(x_train, y_train))\n",
    "        scores_test.append(i.score(x_test, y_test))\n",
    "        rmse_train.append(np.sqrt(mean_squared_error(y_train,i.predict(x_train))))\n",
    "        rmse_test.append(np.sqrt(mean_squared_error(y_test,i.predict(x_test))))\n",
    " \n",
    "    else :\n",
    "        i.fit(x_train_scaled,y_train)\n",
    "        scores_train.append(i.score(x_train_scaled, y_train))\n",
    "        scores_test.append(i.score(x_test_scaled, y_test))\n",
    "        rmse_train.append(np.sqrt(mean_squared_error(y_train,i.predict(x_train_scaled))))\n",
    "        rmse_test.append(np.sqrt(mean_squared_error(y_test,i.predict(x_test_scaled))))\n",
    "        \n",
    "print(pd.DataFrame({'Train RMSE': rmse_train,'Test RMSE': rmse_test,'Training Score':scores_train,'Test Score': scores_test},\n",
    "            index=['Linear Regression','Decision Tree Regressor','Random Forest Regressor', 'ANN Regressor']))"
   ]
  },
  {
   "cell_type": "code",
   "execution_count": null,
   "metadata": {},
   "outputs": [],
   "source": []
  }
 ],
 "metadata": {
  "kernelspec": {
   "display_name": "Python 3",
   "language": "python",
   "name": "python3"
  },
  "language_info": {
   "codemirror_mode": {
    "name": "ipython",
    "version": 3
   },
   "file_extension": ".py",
   "mimetype": "text/x-python",
   "name": "python",
   "nbconvert_exporter": "python",
   "pygments_lexer": "ipython3",
   "version": "3.7.6"
  }
 },
 "nbformat": 4,
 "nbformat_minor": 4
}
