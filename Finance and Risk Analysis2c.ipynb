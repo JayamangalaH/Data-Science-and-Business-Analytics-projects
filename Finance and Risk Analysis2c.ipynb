{
 "cells": [
  {
   "cell_type": "markdown",
   "metadata": {},
   "source": [
    "# Market Risk"
   ]
  },
  {
   "cell_type": "markdown",
   "metadata": {},
   "source": [
    "#### Importing the libraries"
   ]
  },
  {
   "cell_type": "code",
   "execution_count": 1,
   "metadata": {},
   "outputs": [],
   "source": [
    "import numpy as np\n",
    "import matplotlib.pyplot as plt\n",
    "import pandas as pd\n",
    "import seaborn as sns # for making plots with seaborn\n",
    "color = sns.color_palette()\n",
    "import sklearn.metrics as metrics\n",
    "\n",
    "import warnings\n",
    "warnings.filterwarnings(\"ignore\")"
   ]
  },
  {
   "cell_type": "markdown",
   "metadata": {},
   "source": [
    "Let us now go ahead and read the dataset and check the first five rows of the dataset"
   ]
  },
  {
   "cell_type": "markdown",
   "metadata": {},
   "source": [
    "#### Importing the dataset"
   ]
  },
  {
   "cell_type": "code",
   "execution_count": 2,
   "metadata": {},
   "outputs": [
    {
     "data": {
      "text/html": [
       "<div>\n",
       "<style scoped>\n",
       "    .dataframe tbody tr th:only-of-type {\n",
       "        vertical-align: middle;\n",
       "    }\n",
       "\n",
       "    .dataframe tbody tr th {\n",
       "        vertical-align: top;\n",
       "    }\n",
       "\n",
       "    .dataframe thead th {\n",
       "        text-align: right;\n",
       "    }\n",
       "</style>\n",
       "<table border=\"1\" class=\"dataframe\">\n",
       "  <thead>\n",
       "    <tr style=\"text-align: right;\">\n",
       "      <th></th>\n",
       "      <th>Date</th>\n",
       "      <th>Infosys</th>\n",
       "      <th>Indian Hotel</th>\n",
       "      <th>Mahindra &amp; Mahindra</th>\n",
       "      <th>Axis Bank</th>\n",
       "      <th>SAIL</th>\n",
       "      <th>Shree Cement</th>\n",
       "      <th>Sun Pharma</th>\n",
       "      <th>Jindal Steel</th>\n",
       "      <th>Idea Vodafone</th>\n",
       "      <th>Jet Airways</th>\n",
       "    </tr>\n",
       "  </thead>\n",
       "  <tbody>\n",
       "    <tr>\n",
       "      <th>0</th>\n",
       "      <td>31-03-2014</td>\n",
       "      <td>264</td>\n",
       "      <td>69</td>\n",
       "      <td>455</td>\n",
       "      <td>263</td>\n",
       "      <td>68</td>\n",
       "      <td>5543</td>\n",
       "      <td>555</td>\n",
       "      <td>298</td>\n",
       "      <td>83</td>\n",
       "      <td>278</td>\n",
       "    </tr>\n",
       "    <tr>\n",
       "      <th>1</th>\n",
       "      <td>07-04-2014</td>\n",
       "      <td>257</td>\n",
       "      <td>68</td>\n",
       "      <td>458</td>\n",
       "      <td>276</td>\n",
       "      <td>70</td>\n",
       "      <td>5728</td>\n",
       "      <td>610</td>\n",
       "      <td>279</td>\n",
       "      <td>84</td>\n",
       "      <td>303</td>\n",
       "    </tr>\n",
       "    <tr>\n",
       "      <th>2</th>\n",
       "      <td>14-04-2014</td>\n",
       "      <td>254</td>\n",
       "      <td>68</td>\n",
       "      <td>454</td>\n",
       "      <td>270</td>\n",
       "      <td>68</td>\n",
       "      <td>5649</td>\n",
       "      <td>607</td>\n",
       "      <td>279</td>\n",
       "      <td>83</td>\n",
       "      <td>280</td>\n",
       "    </tr>\n",
       "    <tr>\n",
       "      <th>3</th>\n",
       "      <td>21-04-2014</td>\n",
       "      <td>253</td>\n",
       "      <td>68</td>\n",
       "      <td>488</td>\n",
       "      <td>283</td>\n",
       "      <td>68</td>\n",
       "      <td>5692</td>\n",
       "      <td>604</td>\n",
       "      <td>274</td>\n",
       "      <td>83</td>\n",
       "      <td>282</td>\n",
       "    </tr>\n",
       "    <tr>\n",
       "      <th>4</th>\n",
       "      <td>28-04-2014</td>\n",
       "      <td>256</td>\n",
       "      <td>65</td>\n",
       "      <td>482</td>\n",
       "      <td>282</td>\n",
       "      <td>63</td>\n",
       "      <td>5582</td>\n",
       "      <td>611</td>\n",
       "      <td>238</td>\n",
       "      <td>79</td>\n",
       "      <td>243</td>\n",
       "    </tr>\n",
       "  </tbody>\n",
       "</table>\n",
       "</div>"
      ],
      "text/plain": [
       "         Date  Infosys  Indian Hotel  Mahindra & Mahindra  Axis Bank  SAIL  \\\n",
       "0  31-03-2014      264            69                  455        263    68   \n",
       "1  07-04-2014      257            68                  458        276    70   \n",
       "2  14-04-2014      254            68                  454        270    68   \n",
       "3  21-04-2014      253            68                  488        283    68   \n",
       "4  28-04-2014      256            65                  482        282    63   \n",
       "\n",
       "   Shree Cement  Sun Pharma  Jindal Steel  Idea Vodafone  Jet Airways  \n",
       "0          5543         555           298             83          278  \n",
       "1          5728         610           279             84          303  \n",
       "2          5649         607           279             83          280  \n",
       "3          5692         604           274             83          282  \n",
       "4          5582         611           238             79          243  "
      ]
     },
     "execution_count": 2,
     "metadata": {},
     "output_type": "execute_result"
    }
   ],
   "source": [
    "stock_prices = pd.read_csv('Market+Risk+Dataset.csv')\n",
    "\n",
    "#Glimpse of Data\n",
    "stock_prices.head()"
   ]
  },
  {
   "cell_type": "markdown",
   "metadata": {},
   "source": [
    "#### Fixing messy column names (containing spaces) for ease of use"
   ]
  },
  {
   "cell_type": "code",
   "execution_count": 3,
   "metadata": {},
   "outputs": [],
   "source": [
    "stock_prices.columns = stock_prices.columns.str.strip().str.replace(' ', '_').str.replace('&','')"
   ]
  },
  {
   "cell_type": "markdown",
   "metadata": {},
   "source": [
    "#### Checking top 5 rows again"
   ]
  },
  {
   "cell_type": "code",
   "execution_count": 4,
   "metadata": {},
   "outputs": [
    {
     "data": {
      "text/html": [
       "<div>\n",
       "<style scoped>\n",
       "    .dataframe tbody tr th:only-of-type {\n",
       "        vertical-align: middle;\n",
       "    }\n",
       "\n",
       "    .dataframe tbody tr th {\n",
       "        vertical-align: top;\n",
       "    }\n",
       "\n",
       "    .dataframe thead th {\n",
       "        text-align: right;\n",
       "    }\n",
       "</style>\n",
       "<table border=\"1\" class=\"dataframe\">\n",
       "  <thead>\n",
       "    <tr style=\"text-align: right;\">\n",
       "      <th></th>\n",
       "      <th>Date</th>\n",
       "      <th>Infosys</th>\n",
       "      <th>Indian_Hotel</th>\n",
       "      <th>Mahindra__Mahindra</th>\n",
       "      <th>Axis_Bank</th>\n",
       "      <th>SAIL</th>\n",
       "      <th>Shree_Cement</th>\n",
       "      <th>Sun_Pharma</th>\n",
       "      <th>Jindal_Steel</th>\n",
       "      <th>Idea_Vodafone</th>\n",
       "      <th>Jet_Airways</th>\n",
       "    </tr>\n",
       "  </thead>\n",
       "  <tbody>\n",
       "    <tr>\n",
       "      <th>0</th>\n",
       "      <td>31-03-2014</td>\n",
       "      <td>264</td>\n",
       "      <td>69</td>\n",
       "      <td>455</td>\n",
       "      <td>263</td>\n",
       "      <td>68</td>\n",
       "      <td>5543</td>\n",
       "      <td>555</td>\n",
       "      <td>298</td>\n",
       "      <td>83</td>\n",
       "      <td>278</td>\n",
       "    </tr>\n",
       "    <tr>\n",
       "      <th>1</th>\n",
       "      <td>07-04-2014</td>\n",
       "      <td>257</td>\n",
       "      <td>68</td>\n",
       "      <td>458</td>\n",
       "      <td>276</td>\n",
       "      <td>70</td>\n",
       "      <td>5728</td>\n",
       "      <td>610</td>\n",
       "      <td>279</td>\n",
       "      <td>84</td>\n",
       "      <td>303</td>\n",
       "    </tr>\n",
       "    <tr>\n",
       "      <th>2</th>\n",
       "      <td>14-04-2014</td>\n",
       "      <td>254</td>\n",
       "      <td>68</td>\n",
       "      <td>454</td>\n",
       "      <td>270</td>\n",
       "      <td>68</td>\n",
       "      <td>5649</td>\n",
       "      <td>607</td>\n",
       "      <td>279</td>\n",
       "      <td>83</td>\n",
       "      <td>280</td>\n",
       "    </tr>\n",
       "    <tr>\n",
       "      <th>3</th>\n",
       "      <td>21-04-2014</td>\n",
       "      <td>253</td>\n",
       "      <td>68</td>\n",
       "      <td>488</td>\n",
       "      <td>283</td>\n",
       "      <td>68</td>\n",
       "      <td>5692</td>\n",
       "      <td>604</td>\n",
       "      <td>274</td>\n",
       "      <td>83</td>\n",
       "      <td>282</td>\n",
       "    </tr>\n",
       "    <tr>\n",
       "      <th>4</th>\n",
       "      <td>28-04-2014</td>\n",
       "      <td>256</td>\n",
       "      <td>65</td>\n",
       "      <td>482</td>\n",
       "      <td>282</td>\n",
       "      <td>63</td>\n",
       "      <td>5582</td>\n",
       "      <td>611</td>\n",
       "      <td>238</td>\n",
       "      <td>79</td>\n",
       "      <td>243</td>\n",
       "    </tr>\n",
       "  </tbody>\n",
       "</table>\n",
       "</div>"
      ],
      "text/plain": [
       "         Date  Infosys  Indian_Hotel  Mahindra__Mahindra  Axis_Bank  SAIL  \\\n",
       "0  31-03-2014      264            69                 455        263    68   \n",
       "1  07-04-2014      257            68                 458        276    70   \n",
       "2  14-04-2014      254            68                 454        270    68   \n",
       "3  21-04-2014      253            68                 488        283    68   \n",
       "4  28-04-2014      256            65                 482        282    63   \n",
       "\n",
       "   Shree_Cement  Sun_Pharma  Jindal_Steel  Idea_Vodafone  Jet_Airways  \n",
       "0          5543         555           298             83          278  \n",
       "1          5728         610           279             84          303  \n",
       "2          5649         607           279             83          280  \n",
       "3          5692         604           274             83          282  \n",
       "4          5582         611           238             79          243  "
      ]
     },
     "execution_count": 4,
     "metadata": {},
     "output_type": "execute_result"
    }
   ],
   "source": [
    "stock_prices.head()\n"
   ]
  },
  {
   "cell_type": "markdown",
   "metadata": {},
   "source": [
    "#### First, let us check the number of rows (observations) and the number of columns (variables)"
   ]
  },
  {
   "cell_type": "code",
   "execution_count": 5,
   "metadata": {},
   "outputs": [
    {
     "name": "stdout",
     "output_type": "stream",
     "text": [
      "The number of rows (observations) is 314 \n",
      "The number of columns (variables) is 11\n"
     ]
    }
   ],
   "source": [
    "print('The number of rows (observations) is',stock_prices.shape[0],'\\n''The number of columns (variables) is',stock_prices.shape[1])"
   ]
  },
  {
   "cell_type": "markdown",
   "metadata": {},
   "source": [
    "#### Checking data types of all columns"
   ]
  },
  {
   "cell_type": "code",
   "execution_count": 6,
   "metadata": {},
   "outputs": [
    {
     "name": "stdout",
     "output_type": "stream",
     "text": [
      "<class 'pandas.core.frame.DataFrame'>\n",
      "RangeIndex: 314 entries, 0 to 313\n",
      "Data columns (total 11 columns):\n",
      " #   Column              Non-Null Count  Dtype \n",
      "---  ------              --------------  ----- \n",
      " 0   Date                314 non-null    object\n",
      " 1   Infosys             314 non-null    int64 \n",
      " 2   Indian_Hotel        314 non-null    int64 \n",
      " 3   Mahindra__Mahindra  314 non-null    int64 \n",
      " 4   Axis_Bank           314 non-null    int64 \n",
      " 5   SAIL                314 non-null    int64 \n",
      " 6   Shree_Cement        314 non-null    int64 \n",
      " 7   Sun_Pharma          314 non-null    int64 \n",
      " 8   Jindal_Steel        314 non-null    int64 \n",
      " 9   Idea_Vodafone       314 non-null    int64 \n",
      " 10  Jet_Airways         314 non-null    int64 \n",
      "dtypes: int64(10), object(1)\n",
      "memory usage: 27.1+ KB\n"
     ]
    }
   ],
   "source": [
    "stock_prices.info()"
   ]
  },
  {
   "cell_type": "markdown",
   "metadata": {},
   "source": [
    "#### Now, let us check the basic measures of descriptive statistics for the continuous variables"
   ]
  },
  {
   "cell_type": "code",
   "execution_count": 7,
   "metadata": {},
   "outputs": [
    {
     "data": {
      "text/html": [
       "<div>\n",
       "<style scoped>\n",
       "    .dataframe tbody tr th:only-of-type {\n",
       "        vertical-align: middle;\n",
       "    }\n",
       "\n",
       "    .dataframe tbody tr th {\n",
       "        vertical-align: top;\n",
       "    }\n",
       "\n",
       "    .dataframe thead th {\n",
       "        text-align: right;\n",
       "    }\n",
       "</style>\n",
       "<table border=\"1\" class=\"dataframe\">\n",
       "  <thead>\n",
       "    <tr style=\"text-align: right;\">\n",
       "      <th></th>\n",
       "      <th>Infosys</th>\n",
       "      <th>Indian_Hotel</th>\n",
       "      <th>Mahindra__Mahindra</th>\n",
       "      <th>Axis_Bank</th>\n",
       "      <th>SAIL</th>\n",
       "      <th>Shree_Cement</th>\n",
       "      <th>Sun_Pharma</th>\n",
       "      <th>Jindal_Steel</th>\n",
       "      <th>Idea_Vodafone</th>\n",
       "      <th>Jet_Airways</th>\n",
       "    </tr>\n",
       "  </thead>\n",
       "  <tbody>\n",
       "    <tr>\n",
       "      <th>count</th>\n",
       "      <td>314.000000</td>\n",
       "      <td>314.000000</td>\n",
       "      <td>314.000000</td>\n",
       "      <td>314.000000</td>\n",
       "      <td>314.000000</td>\n",
       "      <td>314.000000</td>\n",
       "      <td>314.000000</td>\n",
       "      <td>314.000000</td>\n",
       "      <td>314.000000</td>\n",
       "      <td>314.000000</td>\n",
       "    </tr>\n",
       "    <tr>\n",
       "      <th>mean</th>\n",
       "      <td>511.340764</td>\n",
       "      <td>114.560510</td>\n",
       "      <td>636.678344</td>\n",
       "      <td>540.742038</td>\n",
       "      <td>59.095541</td>\n",
       "      <td>14806.410828</td>\n",
       "      <td>633.468153</td>\n",
       "      <td>147.627389</td>\n",
       "      <td>53.713376</td>\n",
       "      <td>372.659236</td>\n",
       "    </tr>\n",
       "    <tr>\n",
       "      <th>std</th>\n",
       "      <td>135.952051</td>\n",
       "      <td>22.509732</td>\n",
       "      <td>102.879975</td>\n",
       "      <td>115.835569</td>\n",
       "      <td>15.810493</td>\n",
       "      <td>4288.275085</td>\n",
       "      <td>171.855893</td>\n",
       "      <td>65.879195</td>\n",
       "      <td>31.248985</td>\n",
       "      <td>202.262668</td>\n",
       "    </tr>\n",
       "    <tr>\n",
       "      <th>min</th>\n",
       "      <td>234.000000</td>\n",
       "      <td>64.000000</td>\n",
       "      <td>284.000000</td>\n",
       "      <td>263.000000</td>\n",
       "      <td>21.000000</td>\n",
       "      <td>5543.000000</td>\n",
       "      <td>338.000000</td>\n",
       "      <td>53.000000</td>\n",
       "      <td>3.000000</td>\n",
       "      <td>14.000000</td>\n",
       "    </tr>\n",
       "    <tr>\n",
       "      <th>25%</th>\n",
       "      <td>424.000000</td>\n",
       "      <td>96.000000</td>\n",
       "      <td>572.000000</td>\n",
       "      <td>470.500000</td>\n",
       "      <td>47.000000</td>\n",
       "      <td>10952.250000</td>\n",
       "      <td>478.500000</td>\n",
       "      <td>88.250000</td>\n",
       "      <td>25.250000</td>\n",
       "      <td>243.250000</td>\n",
       "    </tr>\n",
       "    <tr>\n",
       "      <th>50%</th>\n",
       "      <td>466.500000</td>\n",
       "      <td>115.000000</td>\n",
       "      <td>625.000000</td>\n",
       "      <td>528.000000</td>\n",
       "      <td>57.000000</td>\n",
       "      <td>16018.500000</td>\n",
       "      <td>614.000000</td>\n",
       "      <td>142.500000</td>\n",
       "      <td>53.000000</td>\n",
       "      <td>376.000000</td>\n",
       "    </tr>\n",
       "    <tr>\n",
       "      <th>75%</th>\n",
       "      <td>630.750000</td>\n",
       "      <td>134.000000</td>\n",
       "      <td>678.000000</td>\n",
       "      <td>605.250000</td>\n",
       "      <td>71.750000</td>\n",
       "      <td>17773.250000</td>\n",
       "      <td>785.000000</td>\n",
       "      <td>182.750000</td>\n",
       "      <td>82.000000</td>\n",
       "      <td>534.000000</td>\n",
       "    </tr>\n",
       "    <tr>\n",
       "      <th>max</th>\n",
       "      <td>810.000000</td>\n",
       "      <td>157.000000</td>\n",
       "      <td>956.000000</td>\n",
       "      <td>808.000000</td>\n",
       "      <td>104.000000</td>\n",
       "      <td>24806.000000</td>\n",
       "      <td>1089.000000</td>\n",
       "      <td>338.000000</td>\n",
       "      <td>117.000000</td>\n",
       "      <td>871.000000</td>\n",
       "    </tr>\n",
       "  </tbody>\n",
       "</table>\n",
       "</div>"
      ],
      "text/plain": [
       "          Infosys  Indian_Hotel  Mahindra__Mahindra   Axis_Bank        SAIL  \\\n",
       "count  314.000000    314.000000          314.000000  314.000000  314.000000   \n",
       "mean   511.340764    114.560510          636.678344  540.742038   59.095541   \n",
       "std    135.952051     22.509732          102.879975  115.835569   15.810493   \n",
       "min    234.000000     64.000000          284.000000  263.000000   21.000000   \n",
       "25%    424.000000     96.000000          572.000000  470.500000   47.000000   \n",
       "50%    466.500000    115.000000          625.000000  528.000000   57.000000   \n",
       "75%    630.750000    134.000000          678.000000  605.250000   71.750000   \n",
       "max    810.000000    157.000000          956.000000  808.000000  104.000000   \n",
       "\n",
       "       Shree_Cement   Sun_Pharma  Jindal_Steel  Idea_Vodafone  Jet_Airways  \n",
       "count    314.000000   314.000000    314.000000     314.000000   314.000000  \n",
       "mean   14806.410828   633.468153    147.627389      53.713376   372.659236  \n",
       "std     4288.275085   171.855893     65.879195      31.248985   202.262668  \n",
       "min     5543.000000   338.000000     53.000000       3.000000    14.000000  \n",
       "25%    10952.250000   478.500000     88.250000      25.250000   243.250000  \n",
       "50%    16018.500000   614.000000    142.500000      53.000000   376.000000  \n",
       "75%    17773.250000   785.000000    182.750000      82.000000   534.000000  \n",
       "max    24806.000000  1089.000000    338.000000     117.000000   871.000000  "
      ]
     },
     "execution_count": 7,
     "metadata": {},
     "output_type": "execute_result"
    }
   ],
   "source": [
    "stock_prices.describe()"
   ]
  },
  {
   "cell_type": "markdown",
   "metadata": {},
   "source": [
    "#### Lets us plot & see price trend over time for different companies"
   ]
  },
  {
   "cell_type": "code",
   "execution_count": 8,
   "metadata": {},
   "outputs": [
    {
     "data": {
      "image/png": "[encoded data removed]",
      "text/plain": [
       "<Figure size 720x576 with 1 Axes>"
      ]
     },
     "metadata": {
      "needs_background": "light"
     },
     "output_type": "display_data"
    }
   ],
   "source": [
    "plt.figure(figsize = (10, 8))\n",
    "stock_prices['Date'] = [pd.to_datetime(d) for d in stock_prices['Date']]\n",
    "plt.scatter(stock_prices['Date'], stock_prices['Infosys'], edgecolors='r')\n",
    "plt.xlabel('Year')\n",
    "plt.ylabel('Infosys')\n",
    "plt.title('Year vs Infosys')\n",
    "plt.show()"
   ]
  },
  {
   "cell_type": "code",
   "execution_count": 9,
   "metadata": {},
   "outputs": [
    {
     "data": {
      "image/png": "[encoded data removed]",
      "text/plain": [
       "<Figure size 720x576 with 1 Axes>"
      ]
     },
     "metadata": {
      "needs_background": "light"
     },
     "output_type": "display_data"
    }
   ],
   "source": [
    "plt.figure(figsize = (10, 8))\n",
    "stock_prices['Date'] = [pd.to_datetime(d) for d in stock_prices['Date']]\n",
    "plt.scatter(stock_prices['Date'], stock_prices['SAIL'], edgecolors='r')\n",
    "plt.xlabel('Year')\n",
    "plt.ylabel('SAIL')\n",
    "plt.title('Year vs SAIL')\n",
    "plt.show()"
   ]
  },
  {
   "cell_type": "markdown",
   "metadata": {},
   "source": [
    "# Analyzing returns"
   ]
  },
  {
   "cell_type": "markdown",
   "metadata": {},
   "source": [
    "Steps for calculating returns from prices:\n",
    "- Take logarithms\n",
    "- Take differences"
   ]
  },
  {
   "cell_type": "code",
   "execution_count": 10,
   "metadata": {},
   "outputs": [],
   "source": [
    "stock_returns = np.log(stock_prices.drop(['Date','Date'],axis=1)).diff(axis = 0, periods = 1) "
   ]
  },
  {
   "cell_type": "markdown",
   "metadata": {},
   "source": [
    "#### Checking the rows & columns of dataset"
   ]
  },
  {
   "cell_type": "code",
   "execution_count": 11,
   "metadata": {},
   "outputs": [
    {
     "data": {
      "text/plain": [
       "(314, 10)"
      ]
     },
     "execution_count": 11,
     "metadata": {},
     "output_type": "execute_result"
    }
   ],
   "source": [
    "stock_returns.shape"
   ]
  },
  {
   "cell_type": "markdown",
   "metadata": {},
   "source": [
    "#### Checking top 5 rows "
   ]
  },
  {
   "cell_type": "code",
   "execution_count": 12,
   "metadata": {},
   "outputs": [
    {
     "data": {
      "text/html": [
       "<div>\n",
       "<style scoped>\n",
       "    .dataframe tbody tr th:only-of-type {\n",
       "        vertical-align: middle;\n",
       "    }\n",
       "\n",
       "    .dataframe tbody tr th {\n",
       "        vertical-align: top;\n",
       "    }\n",
       "\n",
       "    .dataframe thead th {\n",
       "        text-align: right;\n",
       "    }\n",
       "</style>\n",
       "<table border=\"1\" class=\"dataframe\">\n",
       "  <thead>\n",
       "    <tr style=\"text-align: right;\">\n",
       "      <th></th>\n",
       "      <th>Infosys</th>\n",
       "      <th>Indian_Hotel</th>\n",
       "      <th>Mahindra__Mahindra</th>\n",
       "      <th>Axis_Bank</th>\n",
       "      <th>SAIL</th>\n",
       "      <th>Shree_Cement</th>\n",
       "      <th>Sun_Pharma</th>\n",
       "      <th>Jindal_Steel</th>\n",
       "      <th>Idea_Vodafone</th>\n",
       "      <th>Jet_Airways</th>\n",
       "    </tr>\n",
       "  </thead>\n",
       "  <tbody>\n",
       "    <tr>\n",
       "      <th>0</th>\n",
       "      <td>NaN</td>\n",
       "      <td>NaN</td>\n",
       "      <td>NaN</td>\n",
       "      <td>NaN</td>\n",
       "      <td>NaN</td>\n",
       "      <td>NaN</td>\n",
       "      <td>NaN</td>\n",
       "      <td>NaN</td>\n",
       "      <td>NaN</td>\n",
       "      <td>NaN</td>\n",
       "    </tr>\n",
       "    <tr>\n",
       "      <th>1</th>\n",
       "      <td>-0.026873</td>\n",
       "      <td>-0.014599</td>\n",
       "      <td>0.006572</td>\n",
       "      <td>0.048247</td>\n",
       "      <td>0.028988</td>\n",
       "      <td>0.032831</td>\n",
       "      <td>0.094491</td>\n",
       "      <td>-0.065882</td>\n",
       "      <td>0.011976</td>\n",
       "      <td>0.086112</td>\n",
       "    </tr>\n",
       "    <tr>\n",
       "      <th>2</th>\n",
       "      <td>-0.011742</td>\n",
       "      <td>0.000000</td>\n",
       "      <td>-0.008772</td>\n",
       "      <td>-0.021979</td>\n",
       "      <td>-0.028988</td>\n",
       "      <td>-0.013888</td>\n",
       "      <td>-0.004930</td>\n",
       "      <td>0.000000</td>\n",
       "      <td>-0.011976</td>\n",
       "      <td>-0.078943</td>\n",
       "    </tr>\n",
       "    <tr>\n",
       "      <th>3</th>\n",
       "      <td>-0.003945</td>\n",
       "      <td>0.000000</td>\n",
       "      <td>0.072218</td>\n",
       "      <td>0.047025</td>\n",
       "      <td>0.000000</td>\n",
       "      <td>0.007583</td>\n",
       "      <td>-0.004955</td>\n",
       "      <td>-0.018084</td>\n",
       "      <td>0.000000</td>\n",
       "      <td>0.007117</td>\n",
       "    </tr>\n",
       "    <tr>\n",
       "      <th>4</th>\n",
       "      <td>0.011788</td>\n",
       "      <td>-0.045120</td>\n",
       "      <td>-0.012371</td>\n",
       "      <td>-0.003540</td>\n",
       "      <td>-0.076373</td>\n",
       "      <td>-0.019515</td>\n",
       "      <td>0.011523</td>\n",
       "      <td>-0.140857</td>\n",
       "      <td>-0.049393</td>\n",
       "      <td>-0.148846</td>\n",
       "    </tr>\n",
       "    <tr>\n",
       "      <th>5</th>\n",
       "      <td>-0.031749</td>\n",
       "      <td>-0.015504</td>\n",
       "      <td>0.040656</td>\n",
       "      <td>0.061875</td>\n",
       "      <td>0.061558</td>\n",
       "      <td>0.011400</td>\n",
       "      <td>-0.008217</td>\n",
       "      <td>0.024898</td>\n",
       "      <td>0.012579</td>\n",
       "      <td>-0.016598</td>\n",
       "    </tr>\n",
       "    <tr>\n",
       "      <th>6</th>\n",
       "      <td>0.019961</td>\n",
       "      <td>0.060625</td>\n",
       "      <td>0.011881</td>\n",
       "      <td>0.076961</td>\n",
       "      <td>0.112795</td>\n",
       "      <td>0.067622</td>\n",
       "      <td>-0.016639</td>\n",
       "      <td>0.097543</td>\n",
       "      <td>0.048790</td>\n",
       "      <td>0.020705</td>\n",
       "    </tr>\n",
       "    <tr>\n",
       "      <th>7</th>\n",
       "      <td>-0.036221</td>\n",
       "      <td>0.199333</td>\n",
       "      <td>0.038615</td>\n",
       "      <td>0.059898</td>\n",
       "      <td>0.136859</td>\n",
       "      <td>0.056790</td>\n",
       "      <td>-0.049881</td>\n",
       "      <td>0.105732</td>\n",
       "      <td>-0.024098</td>\n",
       "      <td>0.169258</td>\n",
       "    </tr>\n",
       "    <tr>\n",
       "      <th>8</th>\n",
       "      <td>-0.041847</td>\n",
       "      <td>-0.012121</td>\n",
       "      <td>0.064183</td>\n",
       "      <td>-0.014642</td>\n",
       "      <td>-0.023530</td>\n",
       "      <td>0.048090</td>\n",
       "      <td>0.044835</td>\n",
       "      <td>-0.010084</td>\n",
       "      <td>-0.012270</td>\n",
       "      <td>-0.181630</td>\n",
       "    </tr>\n",
       "    <tr>\n",
       "      <th>9</th>\n",
       "      <td>0.135666</td>\n",
       "      <td>0.081917</td>\n",
       "      <td>-0.003559</td>\n",
       "      <td>0.071154</td>\n",
       "      <td>0.213574</td>\n",
       "      <td>0.105167</td>\n",
       "      <td>-0.018724</td>\n",
       "      <td>0.132686</td>\n",
       "      <td>0.024391</td>\n",
       "      <td>0.072031</td>\n",
       "    </tr>\n",
       "  </tbody>\n",
       "</table>\n",
       "</div>"
      ],
      "text/plain": [
       "    Infosys  Indian_Hotel  Mahindra__Mahindra  Axis_Bank      SAIL  \\\n",
       "0       NaN           NaN                 NaN        NaN       NaN   \n",
       "1 -0.026873     -0.014599            0.006572   0.048247  0.028988   \n",
       "2 -0.011742      0.000000           -0.008772  -0.021979 -0.028988   \n",
       "3 -0.003945      0.000000            0.072218   0.047025  0.000000   \n",
       "4  0.011788     -0.045120           -0.012371  -0.003540 -0.076373   \n",
       "5 -0.031749     -0.015504            0.040656   0.061875  0.061558   \n",
       "6  0.019961      0.060625            0.011881   0.076961  0.112795   \n",
       "7 -0.036221      0.199333            0.038615   0.059898  0.136859   \n",
       "8 -0.041847     -0.012121            0.064183  -0.014642 -0.023530   \n",
       "9  0.135666      0.081917           -0.003559   0.071154  0.213574   \n",
       "\n",
       "   Shree_Cement  Sun_Pharma  Jindal_Steel  Idea_Vodafone  Jet_Airways  \n",
       "0           NaN         NaN           NaN            NaN          NaN  \n",
       "1      0.032831    0.094491     -0.065882       0.011976     0.086112  \n",
       "2     -0.013888   -0.004930      0.000000      -0.011976    -0.078943  \n",
       "3      0.007583   -0.004955     -0.018084       0.000000     0.007117  \n",
       "4     -0.019515    0.011523     -0.140857      -0.049393    -0.148846  \n",
       "5      0.011400   -0.008217      0.024898       0.012579    -0.016598  \n",
       "6      0.067622   -0.016639      0.097543       0.048790     0.020705  \n",
       "7      0.056790   -0.049881      0.105732      -0.024098     0.169258  \n",
       "8      0.048090    0.044835     -0.010084      -0.012270    -0.181630  \n",
       "9      0.105167   -0.018724      0.132686       0.024391     0.072031  "
      ]
     },
     "execution_count": 12,
     "metadata": {},
     "output_type": "execute_result"
    }
   ],
   "source": [
    "stock_returns.head(10)"
   ]
  },
  {
   "cell_type": "markdown",
   "metadata": {},
   "source": [
    "### We now look at Means & Standard Deviations of these returns\n",
    "\n",
    "- Stock Means: Average returns that the stock is making on a week to week basis\n",
    "- Stock Standard Deviation : It is a measure of volatility meaning the more a stock's returns vary from the stock's average return, the more volatile the stock"
   ]
  },
  {
   "cell_type": "markdown",
   "metadata": {},
   "source": [
    "#### Calculating stock means"
   ]
  },
  {
   "cell_type": "code",
   "execution_count": 13,
   "metadata": {},
   "outputs": [
    {
     "data": {
      "text/plain": [
       "Infosys               0.002794\n",
       "Indian_Hotel          0.000266\n",
       "Mahindra__Mahindra   -0.001506\n",
       "Axis_Bank             0.001167\n",
       "SAIL                 -0.003463\n",
       "Shree_Cement          0.003681\n",
       "Sun_Pharma           -0.001455\n",
       "Jindal_Steel         -0.004123\n",
       "Idea_Vodafone        -0.010608\n",
       "Jet_Airways          -0.009548\n",
       "dtype: float64"
      ]
     },
     "execution_count": 13,
     "metadata": {},
     "output_type": "execute_result"
    }
   ],
   "source": [
    "stock_means = stock_returns.mean(axis = 0)\n",
    "stock_means"
   ]
  },
  {
   "cell_type": "code",
   "execution_count": 16,
   "metadata": {},
   "outputs": [
    {
     "data": {
      "text/plain": [
       "Shree_Cement          0.003681\n",
       "Infosys               0.002794\n",
       "Axis_Bank             0.001167\n",
       "Indian_Hotel          0.000266\n",
       "Sun_Pharma           -0.001455\n",
       "Mahindra__Mahindra   -0.001506\n",
       "SAIL                 -0.003463\n",
       "Jindal_Steel         -0.004123\n",
       "Jet_Airways          -0.009548\n",
       "Idea_Vodafone        -0.010608\n",
       "dtype: float64"
      ]
     },
     "execution_count": 16,
     "metadata": {},
     "output_type": "execute_result"
    }
   ],
   "source": [
    "stock_means.sort_values(ascending=False)"
   ]
  },
  {
   "cell_type": "markdown",
   "metadata": {},
   "source": [
    "#### Calculating stock standard deviation"
   ]
  },
  {
   "cell_type": "code",
   "execution_count": 14,
   "metadata": {},
   "outputs": [
    {
     "data": {
      "text/plain": [
       "Infosys               0.035070\n",
       "Indian_Hotel          0.047131\n",
       "Mahindra__Mahindra    0.040169\n",
       "Axis_Bank             0.045828\n",
       "SAIL                  0.062188\n",
       "Shree_Cement          0.039917\n",
       "Sun_Pharma            0.045033\n",
       "Jindal_Steel          0.075108\n",
       "Idea_Vodafone         0.104315\n",
       "Jet_Airways           0.097972\n",
       "dtype: float64"
      ]
     },
     "execution_count": 14,
     "metadata": {},
     "output_type": "execute_result"
    }
   ],
   "source": [
    "stock_sd = stock_returns.std(axis = 0)\n",
    "stock_sd"
   ]
  },
  {
   "cell_type": "code",
   "execution_count": 17,
   "metadata": {},
   "outputs": [
    {
     "data": {
      "text/plain": [
       "Infosys               0.035070\n",
       "Shree_Cement          0.039917\n",
       "Mahindra__Mahindra    0.040169\n",
       "Sun_Pharma            0.045033\n",
       "Axis_Bank             0.045828\n",
       "Indian_Hotel          0.047131\n",
       "SAIL                  0.062188\n",
       "Jindal_Steel          0.075108\n",
       "Jet_Airways           0.097972\n",
       "Idea_Vodafone         0.104315\n",
       "dtype: float64"
      ]
     },
     "execution_count": 17,
     "metadata": {},
     "output_type": "execute_result"
    }
   ],
   "source": [
    "stock_sd.sort_values(ascending=True)"
   ]
  },
  {
   "cell_type": "markdown",
   "metadata": {},
   "source": [
    "#### Let us plot & see what they say about stock prices"
   ]
  },
  {
   "cell_type": "code",
   "execution_count": 15,
   "metadata": {},
   "outputs": [
    {
     "data": {
      "image/png": "[encoded data removed]",
      "text/plain": [
       "<Figure size 432x288 with 1 Axes>"
      ]
     },
     "metadata": {
      "needs_background": "light"
     },
     "output_type": "display_data"
    }
   ],
   "source": [
    "plt.scatter(stock_means, stock_sd, edgecolors='r')\n",
    "plt.xlabel('stock_means')\n",
    "plt.ylabel('stock_sd')\n",
    "plt.title('stock_means vs stock_sd')\n",
    "plt.show()"
   ]
  },
  {
   "cell_type": "markdown",
   "metadata": {},
   "source": [
    "Stock with a lower mean & higher standard deviation do not play a role in a portfolio that has competing stock with more returns & less risk.\n",
    "Thus for the data we have here, we are only left few stocks:\n",
    "- One with highest return and lowest risk &\n",
    "- One with lowest risk and highest return"
   ]
  },
  {
   "cell_type": "markdown",
   "metadata": {},
   "source": [
    "Therefore from pure ***Returns*** perspective, Shree_Cement,Infosys, Axis_Bank and Indian Hotel looks good in this dataset &\n",
    "from pure ***Risk*** perspective (as measured by standard deviation), Infosys followed by Shree_Cement & Mahindra__Mahindra looks good in this dataset"
   ]
  },
  {
   "cell_type": "markdown",
   "metadata": {},
   "source": [
    "# END"
   ]
  }
 ],
 "metadata": {
  "kernelspec": {
   "display_name": "Python 3",
   "language": "python",
   "name": "python3"
  },
  "language_info": {
   "codemirror_mode": {
    "name": "ipython",
    "version": 3
   },
   "file_extension": ".py",
   "mimetype": "text/x-python",
   "name": "python",
   "nbconvert_exporter": "python",
   "pygments_lexer": "ipython3",
   "version": "3.8.3"
  }
 },
 "nbformat": 4,
 "nbformat_minor": 2
}
