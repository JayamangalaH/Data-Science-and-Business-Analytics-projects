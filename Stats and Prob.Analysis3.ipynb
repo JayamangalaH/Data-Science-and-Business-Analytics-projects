{
 "cells": [
  {
   "cell_type": "code",
   "execution_count": 8,
   "metadata": {},
   "outputs": [],
   "source": [
    "import numpy as np\n",
    "import pandas as pd\n",
    "import seaborn as sns\n",
    "from scipy import stats\n",
    "from scipy.stats import norm\n",
    "from scipy.stats import normaltest\n",
    "from scipy.stats import anderson\n",
    "from scipy.stats import ttest_1samp\n",
    "from statsmodels.stats import weightstats as stests\n",
    "import matplotlib.pyplot as plt\n",
    "%matplotlib inline\n",
    "abs1 = pd.read_csv('A & B shingles-1.csv')\n"
   ]
  },
  {
   "cell_type": "code",
   "execution_count": 44,
   "metadata": {},
   "outputs": [
    {
     "data": {
      "text/html": [
       "<div>\n",
       "<style scoped>\n",
       "    .dataframe tbody tr th:only-of-type {\n",
       "        vertical-align: middle;\n",
       "    }\n",
       "\n",
       "    .dataframe tbody tr th {\n",
       "        vertical-align: top;\n",
       "    }\n",
       "\n",
       "    .dataframe thead th {\n",
       "        text-align: right;\n",
       "    }\n",
       "</style>\n",
       "<table border=\"1\" class=\"dataframe\">\n",
       "  <thead>\n",
       "    <tr style=\"text-align: right;\">\n",
       "      <th></th>\n",
       "      <th>A</th>\n",
       "      <th>B</th>\n",
       "      <th>diff</th>\n",
       "    </tr>\n",
       "  </thead>\n",
       "  <tbody>\n",
       "    <tr>\n",
       "      <th>count</th>\n",
       "      <td>36.000000</td>\n",
       "      <td>36.000000</td>\n",
       "      <td>36.000000</td>\n",
       "    </tr>\n",
       "    <tr>\n",
       "      <th>mean</th>\n",
       "      <td>0.316667</td>\n",
       "      <td>0.267500</td>\n",
       "      <td>0.049167</td>\n",
       "    </tr>\n",
       "    <tr>\n",
       "      <th>std</th>\n",
       "      <td>0.135731</td>\n",
       "      <td>0.128026</td>\n",
       "      <td>0.218284</td>\n",
       "    </tr>\n",
       "    <tr>\n",
       "      <th>min</th>\n",
       "      <td>0.130000</td>\n",
       "      <td>0.100000</td>\n",
       "      <td>-0.380000</td>\n",
       "    </tr>\n",
       "    <tr>\n",
       "      <th>25%</th>\n",
       "      <td>0.207500</td>\n",
       "      <td>0.167500</td>\n",
       "      <td>-0.127500</td>\n",
       "    </tr>\n",
       "    <tr>\n",
       "      <th>50%</th>\n",
       "      <td>0.290000</td>\n",
       "      <td>0.230000</td>\n",
       "      <td>0.060000</td>\n",
       "    </tr>\n",
       "    <tr>\n",
       "      <th>75%</th>\n",
       "      <td>0.392500</td>\n",
       "      <td>0.375000</td>\n",
       "      <td>0.162500</td>\n",
       "    </tr>\n",
       "    <tr>\n",
       "      <th>max</th>\n",
       "      <td>0.720000</td>\n",
       "      <td>0.580000</td>\n",
       "      <td>0.620000</td>\n",
       "    </tr>\n",
       "  </tbody>\n",
       "</table>\n",
       "</div>"
      ],
      "text/plain": [
       "               A          B       diff\n",
       "count  36.000000  36.000000  36.000000\n",
       "mean    0.316667   0.267500   0.049167\n",
       "std     0.135731   0.128026   0.218284\n",
       "min     0.130000   0.100000  -0.380000\n",
       "25%     0.207500   0.167500  -0.127500\n",
       "50%     0.290000   0.230000   0.060000\n",
       "75%     0.392500   0.375000   0.162500\n",
       "max     0.720000   0.580000   0.620000"
      ]
     },
     "execution_count": 44,
     "metadata": {},
     "output_type": "execute_result"
    }
   ],
   "source": [
    "#abs1.head(5)\n",
    "#abs1.info()\n",
    "abs1.describe(include='all')\n",
    "#abs1.columns\n",
    "#dtypes1=abs1.dtypes\n",
    "#print(dtypes1)"
   ]
  },
  {
   "cell_type": "code",
   "execution_count": 7,
   "metadata": {},
   "outputs": [
    {
     "name": "stdout",
     "output_type": "stream",
     "text": [
      "Is there any null values in B variable\n",
      "True\n"
     ]
    }
   ],
   "source": [
    "#Checking for null values if any\n",
    "print(\"Is there any null values in B variable\")\n",
    "print(abs1['B'].isnull().any())"
   ]
  },
  {
   "cell_type": "code",
   "execution_count": 13,
   "metadata": {},
   "outputs": [
    {
     "data": {
      "text/plain": [
       "Ttest_1sampResult(statistic=-1.4735046253382782, pvalue=0.14955266289815025)"
      ]
     },
     "execution_count": 13,
     "metadata": {},
     "output_type": "execute_result"
    }
   ],
   "source": [
    "# 3.1 For the A shingles, form the null and alternative hypothesis to test whether the population mean\n",
    "# moisture content is less than 0.35 pound per 100 square feet.\n",
    "\n",
    "#The t-test is used when the population mean is known and population standard deviation is unknown.\n",
    "# M1 - population mean\n",
    "#Hypothesis test:\n",
    "#         H0: M1 = 0.35\n",
    "#         H1: M1 < 0.35\n",
    "\n",
    "stats.ttest_1samp(abs1.A, 0.35)"
   ]
  },
  {
   "cell_type": "code",
   "execution_count": 14,
   "metadata": {},
   "outputs": [],
   "source": [
    "#T-test result returns -1.47 for t-statistic which implies mean is less than the population mean \n",
    "#and has approximately 15% probability of being part of the distribution with a pop_mean of 0.35.\n",
    "#As the p-value is greater than 0.05, Null hypotheis is considered."
   ]
  },
  {
   "cell_type": "code",
   "execution_count": 11,
   "metadata": {},
   "outputs": [
    {
     "name": "stdout",
     "output_type": "stream",
     "text": [
      "Column B has any null value?\t\tTrue\n"
     ]
    },
    {
     "data": {
      "text/plain": [
       "Ttest_1sampResult(statistic=-3.866395342288255, pvalue=0.0004586648024154908)"
      ]
     },
     "execution_count": 11,
     "metadata": {},
     "output_type": "execute_result"
    }
   ],
   "source": [
    "#For the B shingles, form the null and alternative hypothesis to test whether the population mean\n",
    "#moisture content is less than 0.35 pound per 100 square feet.\n",
    "\n",
    "##Checking for null values if any\n",
    "print(\"Column B has any null value?\\t\\t{0}\".format(abs1['B'].isnull().any()))\n",
    "\n",
    "#Imputing missing values using median\n",
    "medval=abs1['B'].median()\n",
    "abs1['B']=abs1['B'].fillna(medval)\n",
    "\n",
    "#The t-test is used when the population nean is known and population standard deviation is unknown.\n",
    "#         H0: M1 = 0.35\n",
    "#         H1: M2 < 0.35\n",
    "\n",
    "#fillabs1 = abs1.fillna(0) #'B' has NaN values which are replaced with 0.0\n",
    "stats.ttest_1samp(abs1.B, 0.35)"
   ]
  },
  {
   "cell_type": "code",
   "execution_count": 104,
   "metadata": {},
   "outputs": [],
   "source": [
    "#This returns -3.87 for t-statistic which implies mean is less than the population mean \n",
    "#and has approximately 0.01% probability of being part of the distribution with a pop_mean of 0.35.\n",
    "#As the p-value is less than 0.05, Null hypotheis is rejected.\n",
    "\n"
   ]
  },
  {
   "cell_type": "code",
   "execution_count": 45,
   "metadata": {},
   "outputs": [
    {
     "data": {
      "text/html": [
       "<div>\n",
       "<style scoped>\n",
       "    .dataframe tbody tr th:only-of-type {\n",
       "        vertical-align: middle;\n",
       "    }\n",
       "\n",
       "    .dataframe tbody tr th {\n",
       "        vertical-align: top;\n",
       "    }\n",
       "\n",
       "    .dataframe thead th {\n",
       "        text-align: right;\n",
       "    }\n",
       "</style>\n",
       "<table border=\"1\" class=\"dataframe\">\n",
       "  <thead>\n",
       "    <tr style=\"text-align: right;\">\n",
       "      <th></th>\n",
       "      <th>A</th>\n",
       "      <th>B</th>\n",
       "    </tr>\n",
       "  </thead>\n",
       "  <tbody>\n",
       "    <tr>\n",
       "      <th>count</th>\n",
       "      <td>36.000000</td>\n",
       "      <td>31.000000</td>\n",
       "    </tr>\n",
       "    <tr>\n",
       "      <th>mean</th>\n",
       "      <td>0.316667</td>\n",
       "      <td>0.273548</td>\n",
       "    </tr>\n",
       "    <tr>\n",
       "      <th>std</th>\n",
       "      <td>0.135731</td>\n",
       "      <td>0.137296</td>\n",
       "    </tr>\n",
       "    <tr>\n",
       "      <th>min</th>\n",
       "      <td>0.130000</td>\n",
       "      <td>0.100000</td>\n",
       "    </tr>\n",
       "    <tr>\n",
       "      <th>25%</th>\n",
       "      <td>0.207500</td>\n",
       "      <td>0.160000</td>\n",
       "    </tr>\n",
       "    <tr>\n",
       "      <th>50%</th>\n",
       "      <td>0.290000</td>\n",
       "      <td>0.230000</td>\n",
       "    </tr>\n",
       "    <tr>\n",
       "      <th>75%</th>\n",
       "      <td>0.392500</td>\n",
       "      <td>0.400000</td>\n",
       "    </tr>\n",
       "    <tr>\n",
       "      <th>max</th>\n",
       "      <td>0.720000</td>\n",
       "      <td>0.580000</td>\n",
       "    </tr>\n",
       "  </tbody>\n",
       "</table>\n",
       "</div>"
      ],
      "text/plain": [
       "               A          B\n",
       "count  36.000000  31.000000\n",
       "mean    0.316667   0.273548\n",
       "std     0.135731   0.137296\n",
       "min     0.130000   0.100000\n",
       "25%     0.207500   0.160000\n",
       "50%     0.290000   0.230000\n",
       "75%     0.392500   0.400000\n",
       "max     0.720000   0.580000"
      ]
     },
     "execution_count": 45,
     "metadata": {},
     "output_type": "execute_result"
    }
   ],
   "source": [
    "abs1.describe(include='all')"
   ]
  },
  {
   "cell_type": "code",
   "execution_count": 45,
   "metadata": {},
   "outputs": [
    {
     "name": "stdout",
     "output_type": "stream",
     "text": [
      "B     0.10  0.11  0.13  0.14  0.15  0.16  0.17  0.18  0.19  0.22  ...   0.31  \\\n",
      "A                                                                 ...          \n",
      "0.13     0     1     0     0     0     0     0     0     0     0  ...      0   \n",
      "0.14     0     0     1     0     0     0     0     0     0     0  ...      0   \n",
      "0.15     0     0     0     0     0     0     0     0     0     0  ...      0   \n",
      "0.16     0     0     0     0     0     0     0     0     0     0  ...      1   \n",
      "0.20     0     0     0     0     0     0     0     0     0     0  ...      0   \n",
      "0.21     0     0     0     0     0     0     0     0     0     0  ...      0   \n",
      "0.22     0     0     0     0     0     0     0     0     0     0  ...      0   \n",
      "0.24     0     0     0     0     0     0     0     1     0     0  ...      0   \n",
      "0.25     0     1     0     0     0     0     0     0     0     0  ...      0   \n",
      "0.26     0     0     0     0     0     0     1     0     0     0  ...      0   \n",
      "0.27     0     0     0     0     0     0     0     0     0     0  ...      0   \n",
      "0.28     0     0     0     0     0     0     0     0     0     1  ...      0   \n",
      "0.29     0     0     0     0     0     0     0     0     0     1  ...      0   \n",
      "0.30     0     0     0     0     0     1     0     0     0     0  ...      0   \n",
      "0.33     0     0     0     0     0     0     0     0     0     0  ...      0   \n",
      "0.34     0     0     0     0     0     0     0     0     0     0  ...      0   \n",
      "0.36     0     0     0     0     0     0     0     0     0     0  ...      0   \n",
      "0.37     0     0     0     0     0     0     0     0     0     0  ...      0   \n",
      "0.39     0     1     0     0     0     0     0     0     0     0  ...      0   \n",
      "0.40     0     0     0     0     0     0     0     0     0     0  ...      0   \n",
      "0.42     0     0     0     0     0     0     0     1     0     0  ...      0   \n",
      "0.43     0     0     0     0     0     0     0     0     0     0  ...      0   \n",
      "0.44     0     0     0     1     0     0     0     0     0     0  ...      0   \n",
      "0.47     0     0     0     0     0     0     0     0     0     0  ...      1   \n",
      "0.49     0     0     0     0     0     1     0     0     0     0  ...      0   \n",
      "0.51     0     0     0     0     0     0     0     0     1     0  ...      0   \n",
      "0.61     0     0     0     0     1     0     0     0     0     0  ...      0   \n",
      "0.72     1     0     0     0     0     0     0     0     0     0  ...      0   \n",
      "\n",
      "B     0.36  0.37  0.39  0.41  0.42  0.43  0.44  0.52  0.58  \n",
      "A                                                           \n",
      "0.13     0     0     0     0     0     0     0     0     0  \n",
      "0.14     0     0     0     0     0     0     0     0     0  \n",
      "0.15     0     1     0     0     0     0     0     0     0  \n",
      "0.16     0     0     0     0     1     0     0     0     0  \n",
      "0.20     0     0     0     1     0     1     0     0     1  \n",
      "0.21     0     0     0     0     0     1     0     0     0  \n",
      "0.22     0     0     0     0     0     0     0     0     0  \n",
      "0.24     0     0     0     0     0     0     1     0     0  \n",
      "0.25     0     0     0     0     0     0     0     0     0  \n",
      "0.26     0     0     0     0     0     0     0     0     0  \n",
      "0.27     0     0     1     0     0     0     0     0     0  \n",
      "0.28     0     0     0     0     0     0     0     0     0  \n",
      "0.29     0     0     0     0     0     0     0     0     0  \n",
      "0.30     0     0     0     0     0     0     0     0     0  \n",
      "0.33     0     0     0     0     0     0     0     0     0  \n",
      "0.34     0     0     0     0     0     0     0     1     0  \n",
      "0.36     1     0     0     0     0     0     0     0     0  \n",
      "0.37     0     0     0     0     0     0     0     0     0  \n",
      "0.39     0     0     0     0     0     0     1     0     0  \n",
      "0.40     0     0     0     0     0     0     0     0     0  \n",
      "0.42     0     0     0     0     0     0     0     0     0  \n",
      "0.43     0     0     0     0     0     0     0     0     0  \n",
      "0.44     0     0     0     0     0     0     0     0     0  \n",
      "0.47     0     0     0     0     0     0     0     0     0  \n",
      "0.49     0     0     0     0     0     0     0     0     0  \n",
      "0.51     0     0     0     0     0     0     0     0     0  \n",
      "0.61     0     0     0     0     0     0     0     0     0  \n",
      "0.72     0     0     0     0     0     0     0     0     0  \n",
      "\n",
      "[28 rows x 23 columns]\n"
     ]
    }
   ],
   "source": [
    "#3.3. Do you think that the population means for shingles A and B are equal? \n",
    "#Form the hypothesis and conduct the test of the hypothesis.\n",
    "#print(abs1['A'].size)\n",
    "#since sample size is > 30, we can conduct paired sample Z test\n",
    "\n",
    "#check for independence\n",
    "#crosstab = pd.crosstab(abs1.A,abs1.B)\n",
    "#print(crosstab)\n",
    "#print(\"Chisquare test of independence - A and B\")\n",
    "#stats.chi2_contingency(crosstab)\n",
    "#abs1['B'].skew()\n",
    "\n",
    "#t, p_value  = stats.ttest_ind(abs1['A'], abs1['B'])\n",
    "#print(t, p_value)\n",
    "\n",
    "#ztest ,pval1 = stests.ztest(abs1['A'], x2=abs1['B'], value=0,alternative='two-sided')\n",
    "#print(\"pvalue after z test is\")\n",
    "#print(pval1)\n",
    "\n",
    "#stats.ttest_rel(abs1['A'], abs1['B'])"
   ]
  },
  {
   "cell_type": "code",
   "execution_count": 36,
   "metadata": {},
   "outputs": [
    {
     "data": {
      "text/plain": [
       "<matplotlib.axes._subplots.AxesSubplot at 0x2cce69c6860>"
      ]
     },
     "execution_count": 36,
     "metadata": {},
     "output_type": "execute_result"
    },
    {
     "data": {
      "image/png": "[encoded data removed]",
      "text/plain": [
       "<Figure size 432x288 with 1 Axes>"
      ]
     },
     "metadata": {},
     "output_type": "display_data"
    }
   ],
   "source": [
    "#checking for assumptions\n",
    "#1. check outliers\n",
    "abs1[['A', 'B']].plot(kind='box')\n"
   ]
  },
  {
   "cell_type": "code",
   "execution_count": 55,
   "metadata": {},
   "outputs": [],
   "source": [
    "#abs1['A'].head(25)\n"
   ]
  },
  {
   "cell_type": "code",
   "execution_count": 43,
   "metadata": {},
   "outputs": [
    {
     "name": "stdout",
     "output_type": "stream",
     "text": [
      "WilcoxonResult(statistic=243.0, pvalue=0.23825580330698926)\n"
     ]
    }
   ],
   "source": [
    "#outlier means use wilcoxon\n",
    "#abs1['diff']=abs1['A']-abs1['B']\n",
    "#abs1['diff'].plot(kind=\"box\")\n",
    "#print(abs1['diff'][abs1['diff']==0])\n",
    "#stats.wilcoxon(abs1['diff'])\n",
    "print(stats.wilcoxon(abs1['diff']))"
   ]
  },
  {
   "cell_type": "code",
   "execution_count": 40,
   "metadata": {},
   "outputs": [
    {
     "data": {
      "text/plain": [
       "0.32508222576301116"
      ]
     },
     "execution_count": 40,
     "metadata": {},
     "output_type": "execute_result"
    },
    {
     "data": {
      "image/png": "[encoded data removed]",
      "text/plain": [
       "<Figure size 432x288 with 1 Axes>"
      ]
     },
     "metadata": {},
     "output_type": "display_data"
    }
   ],
   "source": [
    "stats.probplot(abs1['diff'], plot= plt)\n",
    "abs1['diff'].skew()"
   ]
  },
  {
   "cell_type": "code",
   "execution_count": 35,
   "metadata": {},
   "outputs": [
    {
     "name": "stdout",
     "output_type": "stream",
     "text": [
      "Test statistic and p value after normal test is\n",
      "0.9268719234021279 0.629118301228768\n"
     ]
    }
   ],
   "source": [
    "#print(stats.shapiro(abs1['diff']))\n",
    "print(\"Test statistic and p value after normal test is\")\n",
    "stat, p = normaltest(abs1['diff'])\n",
    "print(stat, p)\n",
    "\n",
    "#result = anderson(abs1['diff'])\n",
    "#print(result.statistic)\n",
    "#print(result.critical_values)\n",
    "#If some of the methods suggest that the sample is Gaussian and some not, \n",
    "#then perhaps take this as an indication that your data is Gaussian-like.\n"
   ]
  },
  {
   "cell_type": "code",
   "execution_count": null,
   "metadata": {},
   "outputs": [],
   "source": [
    "\n"
   ]
  },
  {
   "cell_type": "code",
   "execution_count": null,
   "metadata": {},
   "outputs": [],
   "source": []
  }
 ],
 "metadata": {
  "kernelspec": {
   "display_name": "Python 3",
   "language": "python",
   "name": "python3"
  },
  "language_info": {
   "codemirror_mode": {
    "name": "ipython",
    "version": 3
   },
   "file_extension": ".py",
   "mimetype": "text/x-python",
   "name": "python",
   "nbconvert_exporter": "python",
   "pygments_lexer": "ipython3",
   "version": "3.6.5"
  }
 },
 "nbformat": 4,
 "nbformat_minor": 2
}
